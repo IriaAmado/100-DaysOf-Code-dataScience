{
 "cells": [
  {
   "cell_type": "markdown",
   "id": "f32b1811-c0c8-4dee-8b77-b5f15b0de995",
   "metadata": {},
   "source": [
    "# Funciones en Python\n",
    "\n",
    "Este documento proporciona una introducción y ejemplos de funciones en Python."
   ]
  },
  {
   "cell_type": "markdown",
   "id": "30353d1e-ed26-49af-8141-7a6e1e56cd90",
   "metadata": {},
   "source": [
    "Las funciones en Python son bloques de código que se ejecutan cuando se llaman. Son útiles para realizar tareas específicas y pueden recibir parámetros y devolver resultados."
   ]
  },
  {
   "cell_type": "markdown",
   "id": "4c3b0325-5ebb-405f-9606-66645b5dad19",
   "metadata": {},
   "source": [
    "## Creación de una Función\n",
    "\n",
    "Para crear una función en Python, se utiliza la palabra clave `def` seguida del nombre de la función y paréntesis. Opcionalmente, las funciones pueden tener parámetros y un valor de retorno."
   ]
  },
  {
   "cell_type": "code",
   "execution_count": 1,
   "id": "52a1aa19-90a4-4749-96cc-ec2b8bd44299",
   "metadata": {
    "tags": []
   },
   "outputs": [],
   "source": [
    "# Ejemplo de una función simple\n",
    "\n",
    "def saludar():\n",
    "    print('¡Hola!')"
   ]
  },
  {
   "cell_type": "markdown",
   "id": "97c1ac32-e596-40e2-91c6-2e9e96c633e6",
   "metadata": {},
   "source": [
    "## Parámetros de una Función\n",
    "\n",
    "Los parámetros son valores que se pueden pasar a una función. Estos se utilizan como variables dentro de la función."
   ]
  },
  {
   "cell_type": "code",
   "execution_count": 2,
   "id": "c242fb1d-4487-4202-8acf-1b60e263b60d",
   "metadata": {
    "tags": []
   },
   "outputs": [],
   "source": [
    "#Ejemplo de función con parámetros\n",
    "\n",
    "def sumar(a, b):\n",
    "    return a + b"
   ]
  },
  {
   "cell_type": "markdown",
   "id": "2be0c46f-9fe6-4fd2-9dcc-ba74e4426ccc",
   "metadata": {},
   "source": [
    "## Llamada a una Función\n",
    "\n",
    "Para ejecutar una función, se escribe su nombre seguido de paréntesis. Si la función tiene parámetros, se proporcionan valores para esos parámetros en la llamada."
   ]
  },
  {
   "cell_type": "code",
   "execution_count": 3,
   "id": "5915ec9c-d89b-41d4-b551-66b250b6d812",
   "metadata": {
    "tags": []
   },
   "outputs": [
    {
     "name": "stdout",
     "output_type": "stream",
     "text": [
      "¡Hola!\n",
      "El resultado es: 8\n"
     ]
    }
   ],
   "source": [
    "# Llamada a las funciones anteriores\n",
    "\n",
    "saludar()\n",
    "resultado = sumar(5, 3)\n",
    "print('El resultado es:', resultado)"
   ]
  },
  {
   "cell_type": "markdown",
   "id": "bf0cc5f6-b4b3-4465-9377-1f833a3915d1",
   "metadata": {},
   "source": [
    "\n",
    "Las funciones son una parte esencial de la programación en Python y permiten reutilizar código y organizar los programas de manera más eficiente."
   ]
  },
  {
   "cell_type": "markdown",
   "id": "3746340d-4276-4fb4-91ee-95aa667a8e7f",
   "metadata": {},
   "source": [
    "## Ejercicio 1: Función Suma\n",
    "\n",
    "Escribir una función que sume dos números y devuelva el resultado."
   ]
  },
  {
   "cell_type": "code",
   "execution_count": 4,
   "id": "d7d772d0-4bc6-400f-8e4a-39997a61e18a",
   "metadata": {
    "tags": []
   },
   "outputs": [
    {
     "name": "stdout",
     "output_type": "stream",
     "text": [
      "25\n"
     ]
    }
   ],
   "source": [
    "def suma(a, b):\n",
    "    return a + b\n",
    "\n",
    "# Prueba de la función\n",
    "print(suma(10, 15))"
   ]
  },
  {
   "cell_type": "markdown",
   "id": "8c81b97b-4328-410c-bdb1-7d1368649a8f",
   "metadata": {},
   "source": [
    "## Ejercicio 2: Función que Verifica Paridad\n",
    "\n",
    "Crear una función que reciba un número y devuelva `True` si es par y `False` si es impar."
   ]
  },
  {
   "cell_type": "code",
   "execution_count": 5,
   "id": "bf10969a-8072-4b20-960b-60c2de4e9352",
   "metadata": {
    "tags": []
   },
   "outputs": [
    {
     "name": "stdout",
     "output_type": "stream",
     "text": [
      "True\n",
      "False\n"
     ]
    }
   ],
   "source": [
    "def es_par(num):\n",
    "    return num % 2 == 0\n",
    "\n",
    "# Prueba de la función\n",
    "print(es_par(4))\n",
    "print(es_par(5))"
   ]
  },
  {
   "cell_type": "markdown",
   "id": "e5040af9-95d5-4a7c-914c-8d0593e4b317",
   "metadata": {},
   "source": [
    "## Ejercicio 3: Función de Máximo\n",
    "\n",
    "Escribir una función que tome dos números y devuelva el mayor de ellos."
   ]
  },
  {
   "cell_type": "code",
   "execution_count": 6,
   "id": "7d08b540-d700-4bfc-85ac-3b03d6636861",
   "metadata": {
    "tags": []
   },
   "outputs": [
    {
     "name": "stdout",
     "output_type": "stream",
     "text": [
      "20\n"
     ]
    }
   ],
   "source": [
    "def maximo(a, b):\n",
    "    if a > b:\n",
    "        return a\n",
    "    else:\n",
    "        return b\n",
    "\n",
    "# Prueba de la función\n",
    "print(maximo(10, 20))"
   ]
  },
  {
   "cell_type": "markdown",
   "id": "8a58f740-d477-4302-895a-3a36550ba983",
   "metadata": {},
   "source": [
    "## Ejercicio 4: Función de Factorial\n",
    "\n",
    "Crear una función que calcule el factorial de un número dado."
   ]
  },
  {
   "cell_type": "code",
   "execution_count": 7,
   "id": "0299c8bc-b0f8-424a-8e27-ea00320a4a13",
   "metadata": {
    "tags": []
   },
   "outputs": [
    {
     "name": "stdout",
     "output_type": "stream",
     "text": [
      "120\n"
     ]
    }
   ],
   "source": [
    "def factorial(n):\n",
    "    if n == 0:\n",
    "        return 1\n",
    "    else:\n",
    "        return n * factorial(n-1)\n",
    "\n",
    "# Prueba de la función\n",
    "print(factorial(5))"
   ]
  },
  {
   "cell_type": "markdown",
   "id": "6deb6bc3-368c-49ca-b0f2-7324a304e946",
   "metadata": {
    "tags": []
   },
   "source": [
    "## Ejercicio 5: Nombre y edad\n"
   ]
  },
  {
   "cell_type": "code",
   "execution_count": 10,
   "id": "5a4b08fa-fc45-417c-9815-44e47499879c",
   "metadata": {
    "tags": []
   },
   "outputs": [],
   "source": [
    "def dime_nombre(name, age):\n",
    " print(\"Hola \" + name + \" mi edad es \" + age)\n"
   ]
  },
  {
   "cell_type": "code",
   "execution_count": 11,
   "id": "89e0e859-21eb-4fb5-a817-61503803edfb",
   "metadata": {
    "tags": []
   },
   "outputs": [
    {
     "name": "stdout",
     "output_type": "stream",
     "text": [
      "Hola Mike mi edad es 35\n",
      "Hola steve mi edad es 18\n"
     ]
    }
   ],
   "source": [
    "dime_nombre (\"Mike\",\"35\")\n",
    "dime_nombre(\"steve\",\"18\")"
   ]
  },
  {
   "cell_type": "markdown",
   "id": "fb9618a8-0258-43db-882c-a4bb21914db5",
   "metadata": {},
   "source": [
    "## Ejercicio 6: \n",
    "Crea un programa que pida dos número enteros al usuario y diga si alguno de ellos es múltiplo del otro. Crea una función EsMultiplo que reciba los dos números, y devuelve si el primero es múltiplo del segundo."
   ]
  },
  {
   "cell_type": "code",
   "execution_count": 13,
   "id": "7549d0b0-3b23-4d67-a887-da7aad57d908",
   "metadata": {
    "tags": []
   },
   "outputs": [
    {
     "name": "stdin",
     "output_type": "stream",
     "text": [
      "Introduce el primer número entero:  4\n",
      "Introduce el segundo número entero:  9\n"
     ]
    },
    {
     "name": "stdout",
     "output_type": "stream",
     "text": [
      "Ninguno de los números es múltiplo del otro.\n"
     ]
    }
   ],
   "source": [
    "def EsMultiplo(num1, num2):\n",
    "    \n",
    "    if num2 != 0 and num1 % num2 == 0:\n",
    "        return True\n",
    "    elif num1 != 0 and num2 % num1 == 0:\n",
    "        return True\n",
    "    else:\n",
    "        return False\n",
    "\n",
    "# Solicitando al usuario que ingrese dos números enteros\n",
    "num1 = int(input(\"Introduce el primer número entero: \"))\n",
    "num2 = int(input(\"Introduce el segundo número entero: \"))\n",
    "\n",
    "# Llamando a la función EsMultiplo y mostrando el resultado\n",
    "if EsMultiplo(num1, num2):\n",
    "    print(f\"Uno de los números es múltiplo del otro.\")\n",
    "else:\n",
    "    print(f\"Ninguno de los números es múltiplo del otro.\")\n"
   ]
  },
  {
   "cell_type": "markdown",
   "id": "85bf85e5-e044-4bc5-a6b1-21730adc8a27",
   "metadata": {},
   "source": [
    "# Ejercicio 7:\n",
    "Crear una función que calcule la temperatura media de un día a partir de la temperatura máxima y mínima. Crear un programa principal, que utilizando la función anterior, vaya pidiendo la temperatura máxima y mínima de cada día y vaya mostrando la media. El programa pedirá el número de días que se van a introducir."
   ]
  },
  {
   "cell_type": "code",
   "execution_count": 14,
   "id": "1a1b3731-18eb-4893-aedb-2ba9b2bb752c",
   "metadata": {
    "tags": []
   },
   "outputs": [
    {
     "name": "stdin",
     "output_type": "stream",
     "text": [
      "Introduce el número de días:  3\n"
     ]
    },
    {
     "name": "stdout",
     "output_type": "stream",
     "text": [
      "\n",
      "Día 1:\n"
     ]
    },
    {
     "name": "stdin",
     "output_type": "stream",
     "text": [
      "Introduce la temperatura máxima:  5\n",
      "Introduce la temperatura mínima:  0\n"
     ]
    },
    {
     "name": "stdout",
     "output_type": "stream",
     "text": [
      "La temperatura media es: 2.5 grados\n",
      "\n",
      "Día 2:\n"
     ]
    },
    {
     "name": "stdin",
     "output_type": "stream",
     "text": [
      "Introduce la temperatura máxima:  10\n",
      "Introduce la temperatura mínima:  7\n"
     ]
    },
    {
     "name": "stdout",
     "output_type": "stream",
     "text": [
      "La temperatura media es: 8.5 grados\n",
      "\n",
      "Día 3:\n"
     ]
    },
    {
     "name": "stdin",
     "output_type": "stream",
     "text": [
      "Introduce la temperatura máxima:  20\n",
      "Introduce la temperatura mínima:  10\n"
     ]
    },
    {
     "name": "stdout",
     "output_type": "stream",
     "text": [
      "La temperatura media es: 15.0 grados\n"
     ]
    }
   ],
   "source": [
    "def temperatura_media(maxima, minima):\n",
    "    \"\"\"\n",
    "    Calcula la temperatura media a partir de la temperatura máxima y mínima.\n",
    "    \n",
    "    :param maxima: Temperatura máxima del día.\n",
    "    :param minima: Temperatura mínima del día.\n",
    "    :return: Temperatura media del día.\n",
    "    \"\"\"\n",
    "    return (maxima + minima) / 2\n",
    "\n",
    "def programa_principal():\n",
    "    \"\"\"\n",
    "    Programa principal que pide al usuario la temperatura máxima y mínima para un número determinado de días,\n",
    "    y muestra la temperatura media de cada día.\n",
    "    \"\"\"\n",
    "    numero_dias = int(input(\"Introduce el número de días: \"))\n",
    "    for i in range(numero_dias):\n",
    "        print(f\"\\nDía {i + 1}:\")\n",
    "        maxima = float(input(\"Introduce la temperatura máxima: \"))\n",
    "        minima = float(input(\"Introduce la temperatura mínima: \"))\n",
    "        media = temperatura_media(maxima, minima)\n",
    "        print(f\"La temperatura media es: {media} grados\")\n",
    "\n",
    "# Llamando al programa principal\n",
    "programa_principal()\n"
   ]
  },
  {
   "cell_type": "markdown",
   "id": "08c14b05-f53c-4cf5-b72e-eca85b0efb8c",
   "metadata": {},
   "source": [
    "# Ejercicio 8: \n",
    "Crea un función “ConvertirEspaciado”, que reciba como parámetro un texto y devuelve una cadena con un espacio adicional tras cada letra. Por ejemplo, “Hola, tú” devolverá “H o l a , t ú “. Crea un programa principal donde se use dicha función."
   ]
  },
  {
   "cell_type": "code",
   "execution_count": 15,
   "id": "75bb0575-b2cd-4647-9698-c4720dd984e8",
   "metadata": {
    "tags": []
   },
   "outputs": [
    {
     "name": "stdin",
     "output_type": "stream",
     "text": [
      "Introduce un texto:  buenos dias\n"
     ]
    },
    {
     "name": "stdout",
     "output_type": "stream",
     "text": [
      "Texto convertido: b u e n o s   d i a s\n"
     ]
    }
   ],
   "source": [
    "def ConvertirEspaciado(texto):\n",
    "    \"\"\"\n",
    "    Añade un espacio adicional después de cada carácter en una cadena de texto.\n",
    "\n",
    "    :param texto: Cadena de texto a convertir.\n",
    "    :return: Cadena de texto con espacios adicionales.\n",
    "    \"\"\"\n",
    "    # Añadiendo un espacio después de cada carácter\n",
    "    texto_con_espacios = \" \".join(texto)\n",
    "    return texto_con_espacios\n",
    "\n",
    "def programa_principal():\n",
    "    \"\"\"\n",
    "    Programa principal que utiliza la función ConvertirEspaciado.\n",
    "    \"\"\"\n",
    "    texto_usuario = input(\"Introduce un texto: \")\n",
    "    texto_convertido = ConvertirEspaciado(texto_usuario)\n",
    "    print(f\"Texto convertido: {texto_convertido}\")\n",
    "\n",
    "# Llamando al programa principal\n",
    "programa_principal()\n"
   ]
  },
  {
   "cell_type": "markdown",
   "id": "16e5f8e4-1614-47ed-b8ca-089f17d01011",
   "metadata": {},
   "source": [
    "# Ejercicio 9:\n",
    "Crear una función recursiva que permita calcular el factorial de un número. Realiza un programa principal donde se lea un entero y se muestre el resultado del factorial."
   ]
  },
  {
   "cell_type": "code",
   "execution_count": 16,
   "id": "bd6809b5-ec9f-47eb-b385-506c50ad51dd",
   "metadata": {
    "tags": []
   },
   "outputs": [
    {
     "name": "stdin",
     "output_type": "stream",
     "text": [
      "Introduce un número entero para calcular su factorial:  7\n"
     ]
    },
    {
     "name": "stdout",
     "output_type": "stream",
     "text": [
      "El factorial de 7 es 5040\n"
     ]
    }
   ],
   "source": [
    "def factorial_recursivo(n):\n",
    "    \"\"\"\n",
    "    Calcula el factorial de un número de manera recursiva.\n",
    "\n",
    "    :param n: Número entero no negativo.\n",
    "    :return: Factorial de n.\n",
    "    \"\"\"\n",
    "    if n == 0 or n == 1:\n",
    "        return 1\n",
    "    else:\n",
    "        return n * factorial_recursivo(n - 1)\n",
    "\n",
    "def programa_principal():\n",
    "    \"\"\"\n",
    "    Programa principal que lee un número entero y muestra el resultado del factorial.\n",
    "    \"\"\"\n",
    "    numero = int(input(\"Introduce un número entero para calcular su factorial: \"))\n",
    "    if numero < 0:\n",
    "        print(\"El factorial no está definido para números negativos.\")\n",
    "    else:\n",
    "        resultado = factorial_recursivo(numero)\n",
    "        print(f\"El factorial de {numero} es {resultado}\")\n",
    "\n",
    "# Llamando al programa principal\n",
    "programa_principal()\n"
   ]
  },
  {
   "cell_type": "markdown",
   "id": "95dcbfb9-a916-429a-947a-a2f620afb8be",
   "metadata": {},
   "source": [
    "# Ejercicio 10 :\n",
    "Escribir dos funciones que permitan calcular:\n",
    "\n",
    "La cantidad de segundos en un tiempo dado en horas, minutos y segundos.\n",
    "La cantidad de horas, minutos y segundos de un tiempo dado en segundos.\n",
    "Escribe un programa principal con un menú donde se pueda elegir la opción de convertir a segundos, convertir a horas,minutos y segundos o salir del programa."
   ]
  },
  {
   "cell_type": "code",
   "execution_count": 17,
   "id": "bbcd0d84-4206-495c-9466-ceab66ec5c90",
   "metadata": {
    "tags": []
   },
   "outputs": [
    {
     "name": "stdout",
     "output_type": "stream",
     "text": [
      "\n",
      "1. Convertir a segundos\n",
      "2. Convertir a horas, minutos y segundos\n",
      "3. Salir\n"
     ]
    },
    {
     "name": "stdin",
     "output_type": "stream",
     "text": [
      "Elige una opción:  2\n",
      "Introduce segundos:  34001\n"
     ]
    },
    {
     "name": "stdout",
     "output_type": "stream",
     "text": [
      "Horas: 9, Minutos: 26, Segundos: 41\n",
      "\n",
      "1. Convertir a segundos\n",
      "2. Convertir a horas, minutos y segundos\n",
      "3. Salir\n"
     ]
    },
    {
     "name": "stdin",
     "output_type": "stream",
     "text": [
      "Elige una opción:  1\n",
      "Introduce horas:  8976\n",
      "Introduce minutos:  6780900\n",
      "Introduce segundos:  12129918\n"
     ]
    },
    {
     "name": "stdout",
     "output_type": "stream",
     "text": [
      "Total de segundos: 451297518\n",
      "\n",
      "1. Convertir a segundos\n",
      "2. Convertir a horas, minutos y segundos\n",
      "3. Salir\n"
     ]
    },
    {
     "name": "stdin",
     "output_type": "stream",
     "text": [
      "Elige una opción:  3\n"
     ]
    }
   ],
   "source": [
    "def segundos_a_hms(segundos):\n",
    "    \"\"\"\n",
    "    Convierte una cantidad de segundos a horas, minutos y segundos.\n",
    "\n",
    "    :param segundos: Cantidad de segundos.\n",
    "    :return: Una tupla con horas, minutos y segundos.\n",
    "    \"\"\"\n",
    "    horas = segundos // 3600\n",
    "    minutos = (segundos % 3600) // 60\n",
    "    segundos_restantes = segundos % 60\n",
    "    return horas, minutos, segundos_restantes\n",
    "\n",
    "def hms_a_segundos(horas, minutos, segundos):\n",
    "    \"\"\"\n",
    "    Convierte horas, minutos y segundos a una cantidad total de segundos.\n",
    "\n",
    "    :param horas: Cantidad de horas.\n",
    "    :param minutos: Cantidad de minutos.\n",
    "    :param segundos: Cantidad de segundos.\n",
    "    :return: Total de segundos.\n",
    "    \"\"\"\n",
    "    return horas * 3600 + minutos * 60 + segundos\n",
    "\n",
    "def programa_principal():\n",
    "    \"\"\"\n",
    "    Programa principal con un menú para elegir entre convertir a segundos o a horas, minutos y segundos.\n",
    "    \"\"\"\n",
    "    while True:\n",
    "        print(\"\\n1. Convertir a segundos\")\n",
    "        print(\"2. Convertir a horas, minutos y segundos\")\n",
    "        print(\"3. Salir\")\n",
    "        opcion = input(\"Elige una opción: \")\n",
    "\n",
    "        if opcion == '1':\n",
    "            horas = int(input(\"Introduce horas: \"))\n",
    "            minutos = int(input(\"Introduce minutos: \"))\n",
    "            segundos = int(input(\"Introduce segundos: \"))\n",
    "            total_segundos = hms_a_segundos(horas, minutos, segundos)\n",
    "            print(f\"Total de segundos: {total_segundos}\")\n",
    "\n",
    "        elif opcion == '2':\n",
    "            segundos = int(input(\"Introduce segundos: \"))\n",
    "            horas, minutos, segundos_restantes = segundos_a_hms(segundos)\n",
    "            print(f\"Horas: {horas}, Minutos: {minutos}, Segundos: {segundos_restantes}\")\n",
    "\n",
    "        elif opcion == '3':\n",
    "            break\n",
    "        else:\n",
    "            print(\"Opción no válida\")\n",
    "\n",
    "# Llamando al programa principal\n",
    "programa_principal()\n"
   ]
  },
  {
   "cell_type": "markdown",
   "id": "bd8f4cad-74bc-498c-8bf4-0eabe2b61dce",
   "metadata": {},
   "source": [
    "# 11 Ejercicio :\n",
    "Escribir una función que aplique un descuento a un precio y otra que aplique el IVA a un precio. Escribir una tercera función que reciba un diccionario con los precios y porcentajes de una cesta de la compra, y una de las funciones anteriores, y utilice la función pasada para aplicar los descuentos o el IVA a los productos de la cesta y devolver el precio final de la cesta."
   ]
  },
  {
   "cell_type": "code",
   "execution_count": 19,
   "id": "2286492d-d0d7-4c81-91f7-7aaaf5bca757",
   "metadata": {
    "tags": []
   },
   "outputs": [
    {
     "name": "stdout",
     "output_type": "stream",
     "text": [
      "Precio final con descuento: 1295.0\n",
      "Precio final con IVA: 1705.0\n"
     ]
    }
   ],
   "source": [
    "def aplicar_descuento(precio, descuento):\n",
    "    \"\"\"\n",
    "    Aplica un descuento a un precio.\n",
    "\n",
    "    :param precio: Precio original.\n",
    "    :param descuento: Porcentaje de descuento.\n",
    "    :return: Precio después del descuento.\n",
    "    \"\"\"\n",
    "    return precio - (precio * descuento / 100)\n",
    "\n",
    "def aplicar_iva(precio, iva):\n",
    "    \"\"\"\n",
    "    Aplica el IVA a un precio.\n",
    "\n",
    "    :param precio: Precio original.\n",
    "    :param iva: Porcentaje del IVA.\n",
    "    :return: Precio después de aplicar el IVA.\n",
    "    \"\"\"\n",
    "    return precio + (precio * iva / 100)\n",
    "\n",
    "def calcular_precio_final(cesta, funcion):\n",
    "    \"\"\"\n",
    "    Calcula el precio final de una cesta de la compra aplicando una función a cada producto.\n",
    "\n",
    "    :param cesta: Diccionario con los precios y porcentajes.\n",
    "    :param funcion: Función a aplicar a cada producto.\n",
    "    :return: Precio final de la cesta.\n",
    "    \"\"\"\n",
    "    total = 0\n",
    "    for precio, porcentaje in cesta.items():\n",
    "        total += funcion(precio, porcentaje)\n",
    "    return total\n",
    "\n",
    "# Ejemplo de uso\n",
    "cesta = {1000: 10, 500: 21} # Primer producto con un 10% de descuento y el segundo con un 21% de IVA\n",
    "precio_con_descuento = calcular_precio_final(cesta, aplicar_descuento)\n",
    "precio_con_iva = calcular_precio_final(cesta, aplicar_iva)\n",
    "\n",
    "print(f\"Precio final con descuento: {precio_con_descuento}\")\n",
    "print(f\"Precio final con IVA: {precio_con_iva}\")\n"
   ]
  },
  {
   "cell_type": "code",
   "execution_count": null,
   "id": "b8d5d0cf-e17e-45b0-8bb3-61590f431cb8",
   "metadata": {},
   "outputs": [],
   "source": []
  },
  {
   "cell_type": "code",
   "execution_count": null,
   "id": "d4d81dab-a143-4d9e-92c0-17468ab0167c",
   "metadata": {},
   "outputs": [],
   "source": []
  },
  {
   "cell_type": "code",
   "execution_count": null,
   "id": "28330246-9fa7-4169-bca5-e4ac987d7708",
   "metadata": {},
   "outputs": [],
   "source": []
  }
 ],
 "metadata": {
  "kernelspec": {
   "display_name": "Python 3 (ipykernel)",
   "language": "python",
   "name": "python3"
  },
  "language_info": {
   "codemirror_mode": {
    "name": "ipython",
    "version": 3
   },
   "file_extension": ".py",
   "mimetype": "text/x-python",
   "name": "python",
   "nbconvert_exporter": "python",
   "pygments_lexer": "ipython3",
   "version": "3.11.4"
  }
 },
 "nbformat": 4,
 "nbformat_minor": 5
}
