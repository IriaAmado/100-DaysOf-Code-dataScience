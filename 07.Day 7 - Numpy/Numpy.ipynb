{
 "cells": [
  {
   "cell_type": "markdown",
   "id": "c5c6ce6a-0ef8-4306-af17-3049ed09c35d",
   "metadata": {},
   "source": [
    " # NumPy\n",
    "## Introducción a NumPy"
   ]
  },
  {
   "cell_type": "markdown",
   "id": "80cc6094-8c1e-4edb-a451-1bb80016fd50",
   "metadata": {},
   "source": [
    "NumPy es una biblioteca fundamental para la computación científica en Python. Ofrece un objeto de arreglo multidimensional, diversos objetos derivados (como matrices y matrices enmascaradas), y una variedad de rutinas para operaciones rápidas en arreglos, incluyendo matemáticas, lógica, manipulación de formas, clasificación, selección, I/O, transformadas de Fourier, álgebra lineal, operaciones estadísticas, simulación aleatoria, y mucho más.\n"
   ]
  },
  {
   "cell_type": "markdown",
   "id": "95d27753-3864-4980-a76d-ce0b39b0dec2",
   "metadata": {},
   "source": [
    "Creación y Manipulación de Arrays\n",
    "NumPy permite crear arrays desde listas o tuplas en Python. Los arrays pueden ser de cualquier dimensión, y la biblioteca facilita operaciones matemáticas complejas en estos.\n"
   ]
  },
  {
   "cell_type": "markdown",
   "id": "6c428bc4-dbbe-44b3-b241-58816bb33cdb",
   "metadata": {},
   "source": [
    " ### Crear un Array Bidimensional\n"
   ]
  },
  {
   "cell_type": "code",
   "execution_count": 1,
   "id": "141b3cfb-0c0e-428f-831b-bb9e14b3c8f6",
   "metadata": {
    "tags": []
   },
   "outputs": [
    {
     "name": "stdout",
     "output_type": "stream",
     "text": [
      "[[1 2 3]\n",
      " [4 5 6]\n",
      " [7 8 9]]\n"
     ]
    }
   ],
   "source": [
    "\n",
    "import numpy as np\n",
    "\n",
    "# Crear un array 2D con números del 1 al 9\n",
    "array_2d = np.array([[1, 2, 3], [4, 5, 6], [7, 8, 9]])\n",
    "print(array_2d)"
   ]
  },
  {
   "cell_type": "markdown",
   "id": "45df3af6-0b2d-4808-9eb3-20f9e55a0a9b",
   "metadata": {},
   "source": [
    "# Técnicas de Slicing y Acceso a Elementos\n",
    "NumPy ofrece formas avanzadas de acceder a partes de arrays, conocidas como slicing, que permiten seleccionar rangos de datos."
   ]
  },
  {
   "cell_type": "markdown",
   "id": "224ed233-b7ae-4a2b-9a67-847982f8dfac",
   "metadata": {},
   "source": [
    "## Acceder a Elementos\n",
    "Extrae la segunda fila del array creado anteriormente.\n",
    "Selecciona el elemento en la segunda columna y tercera fila.\n"
   ]
  },
  {
   "cell_type": "code",
   "execution_count": 2,
   "id": "1c90f075-9e1d-4ce4-a69d-249a94281d12",
   "metadata": {
    "tags": []
   },
   "outputs": [],
   "source": [
    "import numpy as np\n",
    "\n",
    "# Crear un array 2D con números del 1 al 9\n",
    "array_2d = np.array([[1, 2, 3], [4, 5, 6], [7, 8, 9]])\n",
    "\n",
    "# Extraer la segunda fila del array\n",
    "segunda_fila = array_2d[1, :]\n",
    "\n",
    "# Seleccionar el elemento en la segunda columna y tercera fila\n",
    "elemento_seleccionado = array_2d[2, 1]\n"
   ]
  },
  {
   "cell_type": "markdown",
   "id": "7d529f3f-4d89-4432-ba1c-7df3b3fdcd59",
   "metadata": {},
   "source": [
    "# Diferencias entre Copia y Vista de Arrays\n",
    "Es crucial entender la diferencia entre una copia de un array y una vista. Una copia es un nuevo array, mientras que una vista es solo una manera de ver los datos del array original."
   ]
  },
  {
   "cell_type": "markdown",
   "id": "ab9da5c5-eb77-40be-9798-62d375ac7354",
   "metadata": {},
   "source": [
    "Ejercicio: Copia vs. Vista\n",
    "Crea una copia del array original y modifica un elemento. Verifica si el array original cambia.\n",
    "Realiza una vista del mismo array y modifica un elemento. Observa si esto afecta al array original."
   ]
  },
  {
   "cell_type": "code",
   "execution_count": 3,
   "id": "be739b03-3cb6-4707-8369-2e91d39b7235",
   "metadata": {
    "tags": []
   },
   "outputs": [
    {
     "name": "stdout",
     "output_type": "stream",
     "text": [
      "Array original después de modificar la copia:\n",
      "[[  1 200   3]\n",
      " [  4   5   6]\n",
      " [  7   8   9]]\n",
      "\n",
      "Array original después de modificar la vista:\n",
      "[[  1 200   3]\n",
      " [  4   5   6]\n",
      " [  7   8   9]]\n"
     ]
    }
   ],
   "source": [
    "import numpy as np\n",
    "\n",
    "# Crear un array 2D con números del 1 al 9 para el ejemplo\n",
    "array_2d = np.array([[1, 2, 3], [4, 5, 6], [7, 8, 9]])\n",
    "\n",
    "# Crear una copia del array original\n",
    "array_copia = array_2d.copy()\n",
    "\n",
    "# Modificar un elemento en la copia\n",
    "array_copia[0, 0] = 100\n",
    "\n",
    "# Crear una vista del array original\n",
    "array_vista = array_2d.view()\n",
    "\n",
    "# Modificar un elemento en la vista\n",
    "array_vista[0, 1] = 200\n",
    "\n",
    "# Mostrar el array original después de modificar la copia\n",
    "print(\"Array original después de modificar la copia:\")\n",
    "print(array_2d)\n",
    "\n",
    "# Mostrar el array original después de modificar la vista\n",
    "print(\"\\nArray original después de modificar la vista:\")\n",
    "print(array_2d)\n"
   ]
  },
  {
   "cell_type": "markdown",
   "id": "84c73436-f6fe-41a6-af9a-3cb793073506",
   "metadata": {},
   "source": [
    "# Métodos de Unión y Búsqueda en Arrays\n",
    "\n",
    "NumPy ofrece métodos para combinar arrays y buscar elementos dentro de estos.\n",
    "\n"
   ]
  },
  {
   "cell_type": "markdown",
   "id": "5fbba286-ff36-4a21-be87-5877689d9090",
   "metadata": {},
   "source": [
    "Ejercicio: Unir Arrays\n",
    "Utiliza np.concatenate para unir dos arrays.\n",
    "Busca elementos mayores a 5 en el array resultante."
   ]
  },
  {
   "cell_type": "code",
   "execution_count": 4,
   "id": "006bdbe9-5070-4807-914f-9bb32804112e",
   "metadata": {
    "tags": []
   },
   "outputs": [],
   "source": [
    "import numpy as np\n",
    "\n",
    "# Crear dos arrays para unir\n",
    "array1 = np.array([1, 2, 3, 4, 5])\n",
    "array2 = np.array([6, 7, 8, 9, 10])\n",
    "\n",
    "# Unir los dos arrays\n",
    "array_unido = np.concatenate((array1, array2))\n",
    "\n",
    "# Buscar elementos mayores a 5 en el array resultante\n",
    "elementos_mayores_a_5 = array_unido[array_unido > 5]\n"
   ]
  },
  {
   "cell_type": "code",
   "execution_count": 5,
   "id": "f7f19856-a0c4-49c0-97f7-1c2130936bac",
   "metadata": {
    "tags": []
   },
   "outputs": [
    {
     "name": "stdout",
     "output_type": "stream",
     "text": [
      "[ 1  2  3  4  5  6  7  8  9 10]\n",
      "[ 6  7  8  9 10]\n"
     ]
    }
   ],
   "source": [
    "print(array_unido)\n",
    "print(elementos_mayores_a_5)"
   ]
  },
  {
   "cell_type": "markdown",
   "id": "2a91b5fa-fa96-45c1-9d22-a5c38bd23897",
   "metadata": {},
   "source": [
    "# Ordenamiento de Arrays\n",
    "El ordenamiento es otra operación fundamental en NumPy, permitiendo ordenar los elementos dentro de un array."
   ]
  },
  {
   "cell_type": "markdown",
   "id": "89931d19-640c-4ce2-9cb9-240135791b68",
   "metadata": {},
   "source": [
    "Ejercicio: Ordenar un Array\n",
    "Crea un array con números aleatorios y ordena sus elementos."
   ]
  },
  {
   "cell_type": "code",
   "execution_count": 6,
   "id": "0df604aa-ad2c-4cb1-9aec-b909379c3974",
   "metadata": {
    "tags": []
   },
   "outputs": [],
   "source": [
    "import numpy as np\n",
    "\n",
    "# Crear un array con números aleatorios\n",
    "array_aleatorio = np.random.randint(1, 100, size=10)  # Array de 10 elementos entre 1 y 99\n",
    "\n",
    "# Ordenar los elementos del array\n",
    "array_ordenado = np.sort(array_aleatorio)\n"
   ]
  },
  {
   "cell_type": "code",
   "execution_count": 7,
   "id": "937a74e8-b4af-48fe-afa5-dd0f9f310c7e",
   "metadata": {
    "tags": []
   },
   "outputs": [
    {
     "name": "stdout",
     "output_type": "stream",
     "text": [
      "[ 2 31 37 53 90 29  9 33 49 68]\n",
      "[ 2  9 29 31 33 37 49 53 68 90]\n"
     ]
    }
   ],
   "source": [
    "print (array_aleatorio)\n",
    "print (array_ordenado )"
   ]
  },
  {
   "cell_type": "markdown",
   "id": "710c20d5-26ad-48a3-8360-2d2c0e3e3e3f",
   "metadata": {},
   "source": [
    "# Ejercicios Prácticos\n"
   ]
  },
  {
   "cell_type": "markdown",
   "id": "746c290c-5434-4444-b82f-506f57145e78",
   "metadata": {},
   "source": [
    "Crea un array 3D y accede a un subconjunto específico de este.\n",
    "Realiza operaciones matemáticas básicas (suma, resta, multiplicación) entre arrays.\n",
    "Investiga y aplica funciones estadísticas básicas en un array (media, mediana, desviación estándar)."
   ]
  },
  {
   "cell_type": "code",
   "execution_count": null,
   "id": "01784452-ac12-44dd-a23a-9d1dac47d04a",
   "metadata": {},
   "outputs": [],
   "source": []
  },
  {
   "cell_type": "code",
   "execution_count": 8,
   "id": "6b42a0d6-b004-4a73-a6c0-2e755c0f13df",
   "metadata": {
    "tags": []
   },
   "outputs": [],
   "source": [
    "import numpy as np\n",
    "\n",
    "# Crear un array 3D\n",
    "array_3d = np.array([[[1, 2, 3], [4, 5, 6]], [[7, 8, 9], [10, 11, 12]]])\n",
    "\n",
    "# Acceder a un subconjunto específico\n",
    "subconjunto = array_3d[0, 1, :]\n",
    "\n",
    "# Suma, resta, multiplicación\n",
    "suma = array_3d[0] + array_3d[1]\n",
    "resta = array_3d[1] - array_3d[0]\n",
    "multiplicacion = array_3d[0] * array_3d[1]\n",
    "\n",
    "# Funciones estadísticas\n",
    "media = np.mean(array_3d)\n",
    "mediana = np.median(array_3d)\n",
    "desviacion_estandar = np.std(array_3d)\n"
   ]
  },
  {
   "cell_type": "code",
   "execution_count": 9,
   "id": "c2174b60-f02c-4137-b09a-ca873ab43843",
   "metadata": {
    "tags": []
   },
   "outputs": [
    {
     "name": "stdout",
     "output_type": "stream",
     "text": [
      "[[[ 1  2  3]\n",
      "  [ 4  5  6]]\n",
      "\n",
      " [[ 7  8  9]\n",
      "  [10 11 12]]]\n"
     ]
    }
   ],
   "source": [
    "print(array_3d)"
   ]
  },
  {
   "cell_type": "code",
   "execution_count": 10,
   "id": "f59572cb-ac07-41cb-b0ad-563181dd0ac3",
   "metadata": {
    "tags": []
   },
   "outputs": [
    {
     "name": "stdout",
     "output_type": "stream",
     "text": [
      "[4 5 6]\n"
     ]
    }
   ],
   "source": [
    "print(subconjunto)"
   ]
  },
  {
   "cell_type": "code",
   "execution_count": 11,
   "id": "23faaa89-12ce-4fe7-9dab-8ebc62d859b2",
   "metadata": {
    "tags": []
   },
   "outputs": [
    {
     "name": "stdout",
     "output_type": "stream",
     "text": [
      "[[ 8 10 12]\n",
      " [14 16 18]]\n",
      "[[6 6 6]\n",
      " [6 6 6]]\n",
      "[[ 7 16 27]\n",
      " [40 55 72]]\n"
     ]
    }
   ],
   "source": [
    "print(suma)\n",
    "print(resta)\n",
    "print(multiplicacion)"
   ]
  },
  {
   "cell_type": "code",
   "execution_count": null,
   "id": "301bd5b4-6b3b-44e8-9124-d90756c9b45e",
   "metadata": {},
   "outputs": [],
   "source": [
    "print(media)\n",
    "print(mediana)\n",
    "print("
   ]
  }
 ],
 "metadata": {
  "kernelspec": {
   "display_name": "Python 3 (ipykernel)",
   "language": "python",
   "name": "python3"
  },
  "language_info": {
   "codemirror_mode": {
    "name": "ipython",
    "version": 3
   },
   "file_extension": ".py",
   "mimetype": "text/x-python",
   "name": "python",
   "nbconvert_exporter": "python",
   "pygments_lexer": "ipython3",
   "version": "3.11.4"
  }
 },
 "nbformat": 4,
 "nbformat_minor": 5
}
