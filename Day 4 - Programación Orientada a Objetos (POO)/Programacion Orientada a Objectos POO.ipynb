{
 "cells": [
  {
   "cell_type": "markdown",
   "id": "9d16e211-3a44-439b-a71b-a9380dd2c9cc",
   "metadata": {
    "tags": []
   },
   "source": [
    "# Fundamentos de Programación Orientada a Objetos (POO) en Python"
   ]
  },
  {
   "cell_type": "markdown",
   "id": "50ee1e12-f028-45fd-af02-4dcafa82e080",
   "metadata": {},
   "source": [
    "La Programación Orientada a Objetos (POO) es un paradigma de programación que utiliza objetos y sus interacciones para diseñar aplicaciones y programas de computadora. Se basa en varias técnicas incluyendo herencia, cohesión, encapsulamiento, y polimorfismo."
   ]
  },
  {
   "cell_type": "markdown",
   "id": "fde8fe3e-086c-4b9e-9101-8a8d101e03cb",
   "metadata": {},
   "source": [
    "## Conceptos Básicos de POO"
   ]
  },
  {
   "cell_type": "markdown",
   "id": "d0b5c7bd-edd3-458c-a92e-ef4b7780fff5",
   "metadata": {},
   "source": [
    "### Clases y Objetos\n",
    "Las clases son los 'planos' para la creación de objetos, que son instancias de estas clases."
   ]
  },
  {
   "cell_type": "code",
   "execution_count": 3,
   "id": "de438469-65ee-46a4-9bf3-7182ec9ec918",
   "metadata": {
    "tags": []
   },
   "outputs": [],
   "source": [
    "#### Ejemplo: Clase Auto\n",
    "\n",
    "class Auto:\n",
    "    def __init__(self, marca, modelo):\n",
    "        self.marca = marca\n",
    "        self.modelo = modelo"
   ]
  },
  {
   "cell_type": "code",
   "execution_count": 5,
   "id": "7f74af43-73a8-467e-8136-3a577aee09d9",
   "metadata": {
    "tags": []
   },
   "outputs": [],
   "source": [
    " def mostrar_detalle(self):\n",
    "        return f\"Auto {self.marca} modelo {self.modelo}\""
   ]
  },
  {
   "cell_type": "markdown",
   "id": "153257a7-4263-47f2-b662-d8defdb93cd5",
   "metadata": {},
   "source": [
    "### Atributos y Métodos\n",
    "Los atributos son características de una clase. Los métodos son funciones que definen el comportamiento de los objetos de la clase."
   ]
  },
  {
   "cell_type": "code",
   "execution_count": null,
   "id": "c0ec105b-63b1-437d-9bb9-8a3f83aa1936",
   "metadata": {},
   "outputs": [],
   "source": [
    "#### Ejemplo: Añadiendo atributos y métodos\n",
    "```python\n",
    "mi_auto = Auto('Toyota', 'Corolla')\n",
    "print(mi_auto.mostrar_detalle())\n",
    "```"
   ]
  },
  {
   "cell_type": "markdown",
   "id": "937252c7-99e6-4edc-9e11-08d1523ec883",
   "metadata": {},
   "source": [
    "## Ejemplos Prácticos"
   ]
  },
  {
   "cell_type": "markdown",
   "id": "b6ed2622-5d0b-475d-9823-8842039bd7e2",
   "metadata": {},
   "source": [
    "### Clase Persona\n",
    "Creación de una clase `Persona` con atributos y métodos."
   ]
  },
  {
   "cell_type": "code",
   "execution_count": 19,
   "id": "dde70cab-8255-4ead-aa3e-43243ec7060b",
   "metadata": {
    "tags": []
   },
   "outputs": [],
   "source": [
    "\n",
    "class Persona:\n",
    "    def __init__(self, nombre, edad):\n",
    "        self.nombre = nombre\n",
    "        self.edad = edad"
   ]
  },
  {
   "cell_type": "code",
   "execution_count": 20,
   "id": "d80a2c08-5d01-4fcf-b4f0-741140764f5a",
   "metadata": {
    "tags": []
   },
   "outputs": [],
   "source": [
    "    def saludo(self):\n",
    "        return f\"Hola, mi nombre es {self.nombre} y tengo {self.edad} años.\""
   ]
  },
  {
   "cell_type": "code",
   "execution_count": 29,
   "id": "b99b17d3-9903-4ccd-a0a2-b08ab06ece5a",
   "metadata": {
    "tags": []
   },
   "outputs": [],
   "source": [
    "class Persona:\n",
    "    def __init__(self, nombre, edad):\n",
    "        self.nombre = nombre\n",
    "        self.edad = edad\n",
    "\n",
    "    def saludo(self):\n",
    "        return f\"Hola, mi nombre es {self.nombre} y tengo {self.edad} años.\"\n"
   ]
  },
  {
   "cell_type": "code",
   "execution_count": 30,
   "id": "46ee2e92-dab1-4f9c-a53e-f267aec87a80",
   "metadata": {
    "tags": []
   },
   "outputs": [
    {
     "name": "stdout",
     "output_type": "stream",
     "text": [
      "Hola, mi nombre es Juan y tengo 30 años.\n"
     ]
    }
   ],
   "source": [
    "persona1 = Persona(\"Juan\", 30)\n",
    "print(persona1.saludo())\n"
   ]
  },
  {
   "cell_type": "markdown",
   "id": "2ab5cf41-a132-4888-9a1a-b6cf965ddcb9",
   "metadata": {},
   "source": [
    "## Pilares de la POO"
   ]
  },
  {
   "cell_type": "markdown",
   "id": "b6ad7742-20a1-4d6c-b928-578a4a1b3497",
   "metadata": {},
   "source": [
    "### Encapsulamiento\n",
    "El encapsulamiento es la restricción del acceso directo a algunos componentes de un objeto."
   ]
  },
  {
   "cell_type": "code",
   "execution_count": 23,
   "id": "5a4b529b-132d-49c9-ad87-56bbf9c874d5",
   "metadata": {
    "tags": []
   },
   "outputs": [],
   "source": [
    "#### Ejemplo: Encapsulamiento\n",
    "\n",
    "class CuentaBancaria:\n",
    "    def __init__(self, saldo):\n",
    "        self.__saldo = saldo  # Atributo privado"
   ]
  },
  {
   "cell_type": "code",
   "execution_count": 24,
   "id": "fb65e23b-f8e1-43ae-91c0-b269f1b4fb96",
   "metadata": {
    "tags": []
   },
   "outputs": [],
   "source": [
    "#### Ejemplo: Encapsulamiento\n",
    "\n",
    "class CuentaBancaria:\n",
    "    def __init__(self, saldo):\n",
    "        self.__saldo = saldo  # Atributo privado"
   ]
  },
  {
   "cell_type": "code",
   "execution_count": 27,
   "id": "1fae675e-2791-4db0-88d0-af6b9f55210d",
   "metadata": {
    "tags": []
   },
   "outputs": [],
   "source": [
    "class CuentaBancaria:\n",
    "    def __init__(self, saldo):\n",
    "        self.__saldo = saldo  # Atributo privado\n",
    "\n",
    "    def depositar(self, cantidad):\n",
    "        if cantidad > 0:\n",
    "            self.__saldo += cantidad\n",
    "            return f\"Depósito exitoso. Saldo: {self.__saldo}\"\n",
    "        return \"Cantidad inválida\"\n"
   ]
  },
  {
   "cell_type": "code",
   "execution_count": 28,
   "id": "27a96eee-ed03-4104-9dde-fc56ce3785d3",
   "metadata": {
    "tags": []
   },
   "outputs": [
    {
     "name": "stdout",
     "output_type": "stream",
     "text": [
      "Depósito exitoso. Saldo: 1500\n"
     ]
    }
   ],
   "source": [
    "cuenta = CuentaBancaria(1000)\n",
    "print(cuenta.depositar(500))"
   ]
  },
  {
   "cell_type": "markdown",
   "id": "fee36d3d-9ca6-4469-9d2f-49b507de2eb9",
   "metadata": {},
   "source": [
    "### Herencia, Polimorfismo y Abstracción\n",
    "Explicaciones y ejemplos de estos conceptos."
   ]
  },
  {
   "cell_type": "markdown",
   "id": "7faaa0c5-18a0-4c6b-8a67-6a0d1abb9c48",
   "metadata": {},
   "source": [
    "# Herencia\n",
    "La herencia es un mecanismo que permite que una nueva clase adquiera las propiedades y métodos de otra clase existente."
   ]
  },
  {
   "cell_type": "markdown",
   "id": "cf8beb68-6c12-40ce-b43b-82b259160b3f",
   "metadata": {},
   "source": [
    "Supongamos que tenemos una clase base llamada Vehiculo y queremos crear una clase Coche que herede de ella."
   ]
  },
  {
   "cell_type": "markdown",
   "id": "5fd90c04-e021-4c5a-9f43-a79f85326d63",
   "metadata": {
    "tags": []
   },
   "source": [
    "class Vehiculo:\n",
    "    def __init__(self, marca, modelo):\n",
    "        self.marca = marca\n",
    "        self.modelo = modelo\n",
    "\n",
    "    def mostrar_descripcion(self):\n",
    "        return f\"Vehículo {self.marca} modelo {self.modelo}\"\n",
    "\n",
    "class Coche(Vehiculo):\n",
    "    def __init__(self, marca, modelo, num_puertas):\n",
    "        super().__init__(marca, modelo)\n",
    "        self.num_puertas = num_puertas\n",
    "\n",
    "    def mostrar_descripcion(self):\n",
    "        return f\"Coche {self.marca} modelo {self.modelo} con {self.num_puertas} puertas\"\n",
    "\n",
    "coche = Coche(\"Toyota\", \"Corolla\", 4)\n",
    "print(coche.mostrar_descripcion())\n"
   ]
  },
  {
   "cell_type": "markdown",
   "id": "8fe674a9-b3cd-49cd-a7f4-2d0f1e1dc84e",
   "metadata": {},
   "source": [
    "En este ejemplo, Coche hereda de Vehiculo y extiende su funcionalidad añadiendo un nuevo atributo num_puertas."
   ]
  },
  {
   "cell_type": "markdown",
   "id": "d81c65d5-a747-4feb-bf8e-46e0677cd191",
   "metadata": {},
   "source": [
    "# Polimorfismo\n",
    "El polimorfismo permite que los objetos de diferentes clases se traten como objetos de una clase común, especialmente mediante el uso de herencia."
   ]
  },
  {
   "cell_type": "markdown",
   "id": "c2fa398b-d440-460f-8c5c-76a50c0e017d",
   "metadata": {},
   "source": [
    "Vamos a extender el ejemplo anterior con una nueva clase Motocicleta y una función que trabaja polimórficamente con ambas, Coche y Motocicleta."
   ]
  },
  {
   "cell_type": "code",
   "execution_count": 33,
   "id": "5ad0ea5e-5d87-411a-b289-f99fb74eef29",
   "metadata": {
    "tags": []
   },
   "outputs": [
    {
     "name": "stdout",
     "output_type": "stream",
     "text": [
      "Coche Toyota modelo Corolla con 4 puertas\n",
      "Motocicleta Harley Davidson modelo Street 750\n"
     ]
    }
   ],
   "source": [
    "class Motocicleta(Vehiculo):\n",
    "    def mostrar_descripcion(self):\n",
    "        return f\"Motocicleta {self.marca} modelo {self.modelo}\"\n",
    "\n",
    "def mostrar_vehiculo(vehiculo):\n",
    "    print(vehiculo.mostrar_descripcion())\n",
    "\n",
    "motocicleta = Motocicleta(\"Harley Davidson\", \"Street 750\")\n",
    "mostrar_vehiculo(coche)\n",
    "mostrar_vehiculo(motocicleta)\n"
   ]
  },
  {
   "cell_type": "markdown",
   "id": "0be755f3-cea2-4417-81d5-838a5dca2436",
   "metadata": {},
   "source": [
    "Aquí, mostrar_vehiculo es una función polimórfica que puede aceptar cualquier objeto que sea un Vehiculo o una subclase de Vehiculo."
   ]
  },
  {
   "cell_type": "markdown",
   "id": "142d39ea-5796-484f-9b7d-cd6a0dcca6a8",
   "metadata": {},
   "source": [
    "# Abstracción\n",
    "La abstracción implica trabajar con ideas más que con eventos concretos, centrándose en lo que un objeto hace en lugar de cómo se implementan sus detalles internos."
   ]
  },
  {
   "cell_type": "markdown",
   "id": "616db2f6-df8c-4464-8211-28d4840d851f",
   "metadata": {},
   "source": [
    "Creamos una clase abstracta Dispositivo con un método abstracto y luego definimos una clase concreta que implementa este método."
   ]
  }
 ],
 "metadata": {
  "kernelspec": {
   "display_name": "Python 3 (ipykernel)",
   "language": "python",
   "name": "python3"
  },
  "language_info": {
   "codemirror_mode": {
    "name": "ipython",
    "version": 3
   },
   "file_extension": ".py",
   "mimetype": "text/x-python",
   "name": "python",
   "nbconvert_exporter": "python",
   "pygments_lexer": "ipython3",
   "version": "3.11.4"
  }
 },
 "nbformat": 4,
 "nbformat_minor": 5
}
