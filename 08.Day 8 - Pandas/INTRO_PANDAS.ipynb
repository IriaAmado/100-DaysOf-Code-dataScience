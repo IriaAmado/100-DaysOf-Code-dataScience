{
 "cells": [
  {
   "cell_type": "markdown",
   "id": "0c82997a-fe11-4785-838e-cf2b287dd07d",
   "metadata": {},
   "source": [
    "\n",
    "# Introducción a Pandas en Python\n",
    "\n",
    "Pandas es una biblioteca de software escrita como extensión de NumPy para manipulación y análisis de datos para el lenguaje de programación Python. Ofrece estructuras de datos y operaciones para manipular tablas numéricas y series temporales. Es ideal para trabajar con datos estructurados (tablas, multidimensionales, series temporales) de forma rápida, eficiente y fácil."
   ]
  },
  {
   "cell_type": "markdown",
   "id": "3f34616b-0211-46ec-b26f-2f804ac84f68",
   "metadata": {},
   "source": [
    "## Conceptos básicos de Pandas\n",
    "\n",
    "Pandas introduce dos estructuras de datos fundamentales, `DataFrame` y `Series`, que están diseñadas para manejar la mayoría de los requerimientos típicos de procesamiento y análisis de datos con mínima necesidad de recurrir a sintaxis complejas."
   ]
  },
  {
   "cell_type": "markdown",
   "id": "e77aca31-99de-4be1-ace3-d8262cabe3c6",
   "metadata": {},
   "source": [
    "- `Series`: es un arreglo unidimensional que puede almacenar cualquier tipo de datos con etiquetas o índice. Similar a una columna en una tabla.\n",
    "- `DataFrame`: es una estructura bidimensional similar a una tabla de SQL, hoja de cálculo Excel o una tabla en R, con columnas de diferentes tipos de datos."
   ]
  },
  {
   "cell_type": "markdown",
   "id": "ae80617f-5b2f-45d2-ba31-54c2d45669be",
   "metadata": {},
   "source": [
    "### Instalación de Pandas\n",
    "\n",
    "Para comenzar a trabajar con Pandas, primero necesitas instalarlo. Si ya tienes instalado Python, puedes instalar Pandas utilizando pip:\n",
    "\n",
    "```\n",
    "pip install pandas\n",
    "```"
   ]
  },
  {
   "cell_type": "markdown",
   "id": "741f5a0a-7fd4-48e0-9f75-b832a23ad5e3",
   "metadata": {},
   "source": [
    "### Ejemplo básico de uso de Pandas\n",
    "\n",
    "A continuación, se muestra un ejemplo básico de cómo crear un DataFrame y realizar operaciones simples:\n"
   ]
  },
  {
   "cell_type": "code",
   "execution_count": 1,
   "id": "a78aae8f-2160-47c1-b300-3dd0139ba237",
   "metadata": {
    "tags": []
   },
   "outputs": [],
   "source": [
    "import pandas as pd\n",
    "\n",
    "# Crear un DataFrame\n",
    "data = {'Nombres': ['Ana', 'Luis', 'Pedro', 'Maria'],\n",
    "        'Edad': [28, 34, 29, 32],\n",
    "        'Ciudad': ['Madrid', 'Barcelona', 'Madrid', 'Valencia']}\n"
   ]
  },
  {
   "cell_type": "code",
   "execution_count": 2,
   "id": "b3f29fb8-e1f0-426a-8b9f-3cf850c9b0aa",
   "metadata": {
    "tags": []
   },
   "outputs": [
    {
     "name": "stdout",
     "output_type": "stream",
     "text": [
      "  Nombres  Edad     Ciudad\n",
      "0     Ana    28     Madrid\n",
      "1    Luis    34  Barcelona\n",
      "2   Pedro    29     Madrid\n",
      "3   Maria    32   Valencia\n"
     ]
    }
   ],
   "source": [
    "df = pd.DataFrame(data)\n",
    "\n",
    "# Mostrar el DataFrame\n",
    "print(df)"
   ]
  },
  {
   "cell_type": "markdown",
   "id": "f0cf54ba-b113-4de4-acd2-3d4a0ba2d463",
   "metadata": {},
   "source": [
    "#### Ejercicio 1: Crear un DataFrame y seleccionar una columna\n"
   ]
  },
  {
   "cell_type": "code",
   "execution_count": 3,
   "id": "cdfee6ce-02ff-41d3-86e9-beed50a89511",
   "metadata": {
    "tags": []
   },
   "outputs": [],
   "source": [
    "import pandas as pd\n",
    "\n",
    "data = {'Nombres': ['Ana', 'Luis', 'Pedro', 'Maria'],\n",
    "        'Edad': [28, 34, 29, 32],\n",
    "        'Ciudad': ['Madrid', 'Barcelona', 'Madrid', 'Valencia']}\n",
    "\n",
    "df = pd.DataFrame(data)"
   ]
  },
  {
   "cell_type": "code",
   "execution_count": 4,
   "id": "9a7d43d7-cd17-471a-afc0-a67382c16ffc",
   "metadata": {
    "tags": []
   },
   "outputs": [
    {
     "name": "stdout",
     "output_type": "stream",
     "text": [
      "0      Ana\n",
      "1     Luis\n",
      "2    Pedro\n",
      "3    Maria\n",
      "Name: Nombres, dtype: object\n"
     ]
    }
   ],
   "source": [
    "# Seleccionar la columna 'Nombres' y mostrarla\n",
    "print(df['Nombres'])"
   ]
  },
  {
   "cell_type": "markdown",
   "id": "0ecfeb0e-fbfc-43cf-ae6a-88687e872869",
   "metadata": {},
   "source": [
    "#### Ejercicio 2: Filtrar filas en un DataFrame"
   ]
  },
  {
   "cell_type": "code",
   "execution_count": 5,
   "id": "e53047ba-ba99-4699-b4c6-76105334269d",
   "metadata": {
    "tags": []
   },
   "outputs": [
    {
     "name": "stdout",
     "output_type": "stream",
     "text": [
      "  Nombres  Edad     Ciudad\n",
      "1    Luis    34  Barcelona\n",
      "3   Maria    32   Valencia\n"
     ]
    }
   ],
   "source": [
    "# Filtrar por edad mayor a 30\n",
    "print(df[df['Edad'] > 30])"
   ]
  },
  {
   "cell_type": "code",
   "execution_count": null,
   "id": "3b0a48f0-1637-43df-b7ed-ddafac1b15bb",
   "metadata": {},
   "outputs": [],
   "source": []
  }
 ],
 "metadata": {
  "kernelspec": {
   "display_name": "Python 3 (ipykernel)",
   "language": "python",
   "name": "python3"
  },
  "language_info": {
   "codemirror_mode": {
    "name": "ipython",
    "version": 3
   },
   "file_extension": ".py",
   "mimetype": "text/x-python",
   "name": "python",
   "nbconvert_exporter": "python",
   "pygments_lexer": "ipython3",
   "version": "3.11.4"
  }
 },
 "nbformat": 4,
 "nbformat_minor": 5
}
