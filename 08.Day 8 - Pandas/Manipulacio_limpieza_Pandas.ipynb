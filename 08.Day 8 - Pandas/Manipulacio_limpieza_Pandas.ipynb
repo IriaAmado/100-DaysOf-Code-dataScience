{
 "cells": [
  {
   "cell_type": "markdown",
   "id": "72f93d39-c524-4e9e-97ab-b86ee7e0ddc7",
   "metadata": {},
   "source": [
    "# Manipulación y limpieza de datos con Pandas\n",
    "\n",
    "Una vez que estás familiarizado con los conceptos básicos de Pandas, el siguiente paso es aprender a manipular y limpiar datos para prepararlos para el análisis. Pandas ofrece múltiples funciones que hacen que este proceso sea eficiente y efectivo."
   ]
  },
  {
   "cell_type": "markdown",
   "id": "5673d052-214c-4576-9e31-0593ebf9facb",
   "metadata": {},
   "source": [
    "## Trabajando con datos faltantes\n",
    "\n",
    "Los datos faltantes son comunes en conjuntos de datos reales. Pandas ofrece varias maneras de tratar con ellos.\n"
   ]
  },
  {
   "cell_type": "code",
   "execution_count": 1,
   "id": "d20e90a1-9b79-4326-a16b-2a72bf7ddb05",
   "metadata": {
    "tags": []
   },
   "outputs": [
    {
     "name": "stdout",
     "output_type": "stream",
     "text": [
      "     A    B  C\n",
      "0  1.0  4.0  7\n",
      "1  NaN  5.0  8\n",
      "2  3.0  NaN  9\n",
      "       A      B      C\n",
      "0  False  False  False\n",
      "1   True  False  False\n",
      "2  False   True  False\n"
     ]
    }
   ],
   "source": [
    "### Identificar datos faltantes\n",
    "\n",
    "\n",
    "import pandas as pd\n",
    "import numpy as np\n",
    "\n",
    "# Creando un DataFrame con datos faltantes\n",
    "df = pd.DataFrame({'A': [1, np.nan, 3],\n",
    "                   'B': [4, 5, np.nan],\n",
    "                   'C': [7, 8, 9]})\n",
    "print(df)\n",
    "\n",
    "# Identificar valores nulos\n",
    "print(df.isnull())"
   ]
  },
  {
   "cell_type": "markdown",
   "id": "3e4e86a7-66d2-4ef5-ba71-84162dd6331a",
   "metadata": {},
   "source": [
    "### Eliminar filas o columnas con datos faltantes\n"
   ]
  },
  {
   "cell_type": "code",
   "execution_count": 2,
   "id": "979685ba-6954-4a81-80e9-933288cd08bd",
   "metadata": {
    "tags": []
   },
   "outputs": [
    {
     "name": "stdout",
     "output_type": "stream",
     "text": [
      "     A    B  C\n",
      "0  1.0  4.0  7\n"
     ]
    }
   ],
   "source": [
    "# Eliminar filas con datos faltantes\n",
    "df_dropna_rows = df.dropna()\n",
    "print(df_dropna_rows)"
   ]
  },
  {
   "cell_type": "code",
   "execution_count": 3,
   "id": "063c2486-a4ba-49c2-8c96-7d5b29219657",
   "metadata": {
    "tags": []
   },
   "outputs": [
    {
     "name": "stdout",
     "output_type": "stream",
     "text": [
      "   C\n",
      "0  7\n",
      "1  8\n",
      "2  9\n"
     ]
    }
   ],
   "source": [
    "# Eliminar columnas con datos faltantes\n",
    "df_dropna_columns = df.dropna(axis=1)\n",
    "print(df_dropna_columns)"
   ]
  },
  {
   "cell_type": "markdown",
   "id": "c00fa48f-16d4-410e-b699-a24b90bf0f79",
   "metadata": {},
   "source": [
    "### Rellenar datos faltantes"
   ]
  },
  {
   "cell_type": "code",
   "execution_count": 4,
   "id": "99e11f05-5f15-47ba-b574-15d523ec024e",
   "metadata": {
    "tags": []
   },
   "outputs": [
    {
     "name": "stdout",
     "output_type": "stream",
     "text": [
      "     A    B  C\n",
      "0  1.0  4.0  7\n",
      "1  0.0  5.0  8\n",
      "2  3.0  0.0  9\n"
     ]
    }
   ],
   "source": [
    "# Rellenar datos faltantes con un valor fijo\n",
    "df_filled = df.fillna(0)\n",
    "print(df_filled)"
   ]
  },
  {
   "cell_type": "markdown",
   "id": "37a933eb-98b4-4eb7-af34-40da56a24c62",
   "metadata": {
    "tags": []
   },
   "source": [
    "## Agrupar datos\n",
    "\n",
    "Agrupar datos es útil para realizar cálculos sobre subconjuntos de tu dataset.\n"
   ]
  },
  {
   "cell_type": "code",
   "execution_count": 6,
   "id": "1c9be2f5-f4ff-4ea3-a605-73de363d5915",
   "metadata": {
    "tags": []
   },
   "outputs": [],
   "source": [
    "data = {'Producto': ['Manzanas', 'Naranjas', 'Plátanos', 'Manzanas', 'Naranjas', 'Plátanos'],\n",
    "        'Ventas': [34, 22, 15, 14, 32, 25]}\n",
    "\n",
    "df = pd.DataFrame(data)"
   ]
  },
  {
   "cell_type": "code",
   "execution_count": 7,
   "id": "70f47626-9c78-4bd9-9803-3c1060b5c301",
   "metadata": {
    "tags": []
   },
   "outputs": [
    {
     "name": "stdout",
     "output_type": "stream",
     "text": [
      "          Ventas\n",
      "Producto        \n",
      "Manzanas      48\n",
      "Naranjas      54\n",
      "Plátanos      40\n"
     ]
    }
   ],
   "source": [
    "# Agrupar por producto y sumar las ventas\n",
    "ventas_por_producto = df.groupby('Producto').sum()\n",
    "print(ventas_por_producto)"
   ]
  },
  {
   "cell_type": "code",
   "execution_count": null,
   "id": "4b2cf92f-7bae-435d-b18c-b44c478b018f",
   "metadata": {},
   "outputs": [],
   "source": []
  }
 ],
 "metadata": {
  "kernelspec": {
   "display_name": "Python 3 (ipykernel)",
   "language": "python",
   "name": "python3"
  },
  "language_info": {
   "codemirror_mode": {
    "name": "ipython",
    "version": 3
   },
   "file_extension": ".py",
   "mimetype": "text/x-python",
   "name": "python",
   "nbconvert_exporter": "python",
   "pygments_lexer": "ipython3",
   "version": "3.11.4"
  }
 },
 "nbformat": 4,
 "nbformat_minor": 5
}
