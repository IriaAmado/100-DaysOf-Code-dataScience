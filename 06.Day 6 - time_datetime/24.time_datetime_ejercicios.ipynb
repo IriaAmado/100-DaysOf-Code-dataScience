{
 "cells": [
  {
   "cell_type": "markdown",
   "id": "81cc3390",
   "metadata": {},
   "source": [
    "## datetime Ejercicios"
   ]
  },
  {
   "cell_type": "code",
   "execution_count": 1,
   "id": "570de22e",
   "metadata": {
    "tags": []
   },
   "outputs": [],
   "source": [
    "import time\n",
    "import datetime"
   ]
  },
  {
   "cell_type": "markdown",
   "id": "f9db0e96",
   "metadata": {},
   "source": [
    "### Ejercicio 1\n",
    "- Determina si el año actual es bisiesto, imprime el resultado por pantalla. Usa la libreria **`datetime`**."
   ]
  },
  {
   "cell_type": "code",
   "execution_count": 3,
   "id": "7f8fbd2e",
   "metadata": {
    "tags": []
   },
   "outputs": [
    {
     "name": "stdout",
     "output_type": "stream",
     "text": [
      "El año 2023 no es bisiesto.\n"
     ]
    }
   ],
   "source": [
    "import datetime\n",
    "\n",
    "def es_bisiesto(anio):\n",
    "    # Un año es bisiesto si es divisible por 4,\n",
    "    # excepto si es divisible por 100 pero no por 400.\n",
    "    return (anio % 4 == 0) and (anio % 100 != 0 or anio % 400 == 0)\n",
    "\n",
    "# Obtén el año actual\n",
    "anio_actual = datetime.datetime.now().year\n",
    "\n",
    "# Comprueba si es bisiesto\n",
    "if es_bisiesto(anio_actual):\n",
    "    print(f\"El año {anio_actual} es bisiesto.\")\n",
    "else:\n",
    "    print(f\"El año {anio_actual} no es bisiesto.\")\n"
   ]
  },
  {
   "cell_type": "code",
   "execution_count": 2,
   "id": "586752c5",
   "metadata": {
    "tags": []
   },
   "outputs": [],
   "source": [
    "#Este código define una función es_bisiesto que determina si un año es bisiesto\n",
    "#o no según las reglas habituales de años bisiestos. \n",
    "#Luego, obtiene el año actual usando datetime.datetime.now().year\n",
    "#y verifica si es bisiesto o no. Finalmente, imprime el resultado en consecuencia."
   ]
  },
  {
   "cell_type": "code",
   "execution_count": null,
   "id": "8f7131c0",
   "metadata": {},
   "outputs": [],
   "source": [
    "def es_bisiesto(anio):\n",
    "    if anio % 400 == 0:\n",
    "        return True\n",
    "    elif anio % 4 == 0 and anio % 100! =0:\n",
    "        return True\n",
    "    "
   ]
  },
  {
   "cell_type": "markdown",
   "id": "9ec19d61",
   "metadata": {},
   "source": [
    "### Ejercicio 2\n",
    "- Utiliza el año 2000 y el año 2100 para verificar que el código anterior funciona correctamente. Nota: El año 2000 fue bisiesto y el año 2100 no lo será."
   ]
  },
  {
   "cell_type": "code",
   "execution_count": null,
   "id": "6d7ac90e",
   "metadata": {},
   "outputs": [],
   "source": [
    "#determinar todos los años bisiestos entr el 2000 y 2100 amnbos incluidos\n"
   ]
  },
  {
   "cell_type": "code",
   "execution_count": 4,
   "id": "ae63e7cd",
   "metadata": {
    "tags": []
   },
   "outputs": [
    {
     "name": "stdout",
     "output_type": "stream",
     "text": [
      "Años bisiestos entre 2000 y 2100:\n",
      "[2000, 2004, 2008, 2012, 2016, 2020, 2024, 2028, 2032, 2036, 2040, 2044, 2048, 2052, 2056, 2060, 2064, 2068, 2072, 2076, 2080, 2084, 2088, 2092, 2096]\n"
     ]
    }
   ],
   "source": [
    "import datetime\n",
    "\n",
    "# Lista para almacenar años bisiestos\n",
    "años_bisiestos = []\n",
    "\n",
    "# Iterar desde el año 2000 hasta 2100\n",
    "for año in range(2000, 2101):\n",
    "    if (año % 4 == 0 and año % 100 != 0) or (año % 400 == 0):\n",
    "        años_bisiestos.append(año)\n",
    "\n",
    "# Imprimir los años bisiestos\n",
    "print(\"Años bisiestos entre 2000 y 2100:\")\n",
    "print(años_bisiestos)\n",
    "\n",
    "    \n",
    "    "
   ]
  },
  {
   "cell_type": "code",
   "execution_count": null,
   "id": "516fe1fc",
   "metadata": {},
   "outputs": [],
   "source": []
  },
  {
   "cell_type": "markdown",
   "id": "30aaf8f9",
   "metadata": {},
   "source": [
    "### Ejercicio 3\n",
    "- Convierte la fecha **`'Oct 16 2019 2:43PM'`** en un objecto de tipo **`datetime`**. Nota: Convertir una fecha string a una fecha tipo datetime."
   ]
  },
  {
   "cell_type": "code",
   "execution_count": 5,
   "id": "5a5aee2e",
   "metadata": {
    "tags": []
   },
   "outputs": [
    {
     "name": "stdout",
     "output_type": "stream",
     "text": [
      "Fecha en formato datetime: 2019-10-16 14:43:00\n"
     ]
    }
   ],
   "source": [
    "from datetime import datetime\n",
    "\n",
    "fecha_str = \"oct 16 2019 2:43pm\"\n",
    "fecha_dt = datetime.strptime(fecha_str, \"%b %d %Y %I:%M%p\")\n",
    "\n",
    "print(\"Fecha en formato datetime:\", fecha_dt)\n"
   ]
  },
  {
   "cell_type": "code",
   "execution_count": null,
   "id": "dabe056d-f60e-4cfc-b514-a0b368fc3c72",
   "metadata": {},
   "outputs": [],
   "source": []
  },
  {
   "cell_type": "code",
   "execution_count": null,
   "id": "3473f225",
   "metadata": {},
   "outputs": [],
   "source": [
    "#Este código primero importa la clase datetime de la biblioteca datetime.\n",
    "#Luego, utiliza el método strptime para convertir la cadena \"oct 16 2019 2:43pm\" en un objeto de tipo datetime,\n",
    "#especificando el formato de la cadena de entrada usando el patrón \"%b %d %Y %I:%M%p\".\n",
    "#Finalmente, imprime la fecha en formato datetime."
   ]
  },
  {
   "cell_type": "code",
   "execution_count": null,
   "id": "e86e8008",
   "metadata": {},
   "outputs": [],
   "source": []
  },
  {
   "cell_type": "markdown",
   "id": "dac7380d",
   "metadata": {},
   "source": [
    "### Ejercicio 4\n",
    "- Muestra la hora actual."
   ]
  },
  {
   "cell_type": "code",
   "execution_count": null,
   "id": "1d0c0aea",
   "metadata": {},
   "outputs": [],
   "source": []
  },
  {
   "cell_type": "code",
   "execution_count": null,
   "id": "7da1f286",
   "metadata": {},
   "outputs": [],
   "source": []
  },
  {
   "cell_type": "code",
   "execution_count": null,
   "id": "0faf7615",
   "metadata": {},
   "outputs": [],
   "source": []
  },
  {
   "cell_type": "markdown",
   "id": "4888b068",
   "metadata": {},
   "source": [
    "### Ejercicio 5\n",
    "\n",
    "- Utilizando la fecha y hora actual imprime la siguiente información:\n",
    "\n",
    "1. Fecha y hora actual\n",
    "2. Año actual\n",
    "3. Mes del año\n",
    "4. Numero de la semana del año\n",
    "5. Numero del dia de la semana\n",
    "6. Dia del año\n",
    "7. Dia del mes\n",
    "8. Dia de la semana"
   ]
  },
  {
   "cell_type": "code",
   "execution_count": null,
   "id": "2be25c27",
   "metadata": {},
   "outputs": [],
   "source": []
  },
  {
   "cell_type": "code",
   "execution_count": null,
   "id": "4f5fe2b2",
   "metadata": {},
   "outputs": [],
   "source": []
  },
  {
   "cell_type": "code",
   "execution_count": null,
   "id": "0d115ad6",
   "metadata": {},
   "outputs": [],
   "source": []
  },
  {
   "cell_type": "markdown",
   "id": "2b6c624f",
   "metadata": {},
   "source": [
    "### Ejercicio 6\n",
    "\n",
    "- Escribe un código que convierta la siguiente cadena que se encuentra en formato timestamp unix **\"1284105682\"** a un formato que se pueda leer."
   ]
  },
  {
   "cell_type": "code",
   "execution_count": null,
   "id": "5eaab7d8",
   "metadata": {},
   "outputs": [],
   "source": []
  },
  {
   "cell_type": "code",
   "execution_count": null,
   "id": "6580497b",
   "metadata": {},
   "outputs": [],
   "source": []
  },
  {
   "cell_type": "code",
   "execution_count": null,
   "id": "b863e2d9",
   "metadata": {},
   "outputs": [],
   "source": []
  },
  {
   "cell_type": "markdown",
   "id": "9fa710a8",
   "metadata": {},
   "source": [
    "### Ejercicio 7\n",
    "- Escribe un programa que imprima la fecha de 5 días atras."
   ]
  },
  {
   "cell_type": "code",
   "execution_count": null,
   "id": "c2508c37",
   "metadata": {},
   "outputs": [],
   "source": []
  },
  {
   "cell_type": "code",
   "execution_count": null,
   "id": "e95406c6",
   "metadata": {},
   "outputs": [],
   "source": []
  },
  {
   "cell_type": "code",
   "execution_count": null,
   "id": "e4161e92",
   "metadata": {},
   "outputs": [],
   "source": []
  },
  {
   "cell_type": "markdown",
   "id": "ea3d4997",
   "metadata": {},
   "source": [
    "### Ejercicio 8\n",
    "- Utiliza un bucle **`for`** para imprimir los proximos 5 dias."
   ]
  },
  {
   "cell_type": "code",
   "execution_count": null,
   "id": "311bfc3d",
   "metadata": {},
   "outputs": [],
   "source": []
  },
  {
   "cell_type": "code",
   "execution_count": null,
   "id": "891c5751",
   "metadata": {},
   "outputs": [],
   "source": []
  },
  {
   "cell_type": "code",
   "execution_count": null,
   "id": "107310ee",
   "metadata": {},
   "outputs": [],
   "source": []
  },
  {
   "cell_type": "markdown",
   "id": "9f2f692d",
   "metadata": {},
   "source": [
    "### Ejercicio 9\n",
    "- Escribe un código que agregue 5 segundos a la hora actual."
   ]
  },
  {
   "cell_type": "code",
   "execution_count": null,
   "id": "6299f143",
   "metadata": {},
   "outputs": [],
   "source": []
  },
  {
   "cell_type": "code",
   "execution_count": null,
   "id": "828c806b",
   "metadata": {},
   "outputs": [],
   "source": []
  },
  {
   "cell_type": "code",
   "execution_count": null,
   "id": "30269f13",
   "metadata": {},
   "outputs": [],
   "source": []
  },
  {
   "cell_type": "markdown",
   "id": "e6fa33cc",
   "metadata": {},
   "source": [
    "### Ejercicio 10\n",
    "\n",
    "- Escribe un código que muestre la fecha de ayer, hoy y mañana."
   ]
  },
  {
   "cell_type": "code",
   "execution_count": null,
   "id": "a1b81653",
   "metadata": {},
   "outputs": [],
   "source": []
  },
  {
   "cell_type": "code",
   "execution_count": null,
   "id": "01cf4839",
   "metadata": {},
   "outputs": [],
   "source": []
  },
  {
   "cell_type": "code",
   "execution_count": null,
   "id": "5c397c62",
   "metadata": {},
   "outputs": [],
   "source": []
  },
  {
   "cell_type": "markdown",
   "id": "bf3cb171",
   "metadata": {},
   "source": [
    "### Ejercicio 11\n",
    "- Escribe un código que convierta una fecha a unix timestamp."
   ]
  },
  {
   "cell_type": "code",
   "execution_count": null,
   "id": "87e59068",
   "metadata": {},
   "outputs": [],
   "source": []
  },
  {
   "cell_type": "code",
   "execution_count": null,
   "id": "a07a78aa",
   "metadata": {},
   "outputs": [],
   "source": []
  },
  {
   "cell_type": "code",
   "execution_count": null,
   "id": "e88b97c1",
   "metadata": {},
   "outputs": [],
   "source": []
  },
  {
   "cell_type": "markdown",
   "id": "44994dbb",
   "metadata": {},
   "source": [
    "### Ejercicio 12\n",
    "\n",
    "- Escribe un código que genere la fecha y hora actual del tipo **`datetime`** como **`string`**. (Dale el formato que quieras.)"
   ]
  },
  {
   "cell_type": "code",
   "execution_count": null,
   "id": "c7e38f97",
   "metadata": {},
   "outputs": [],
   "source": []
  },
  {
   "cell_type": "code",
   "execution_count": null,
   "id": "d4fa4a49",
   "metadata": {},
   "outputs": [],
   "source": []
  },
  {
   "cell_type": "code",
   "execution_count": null,
   "id": "cba05354",
   "metadata": {},
   "outputs": [],
   "source": []
  },
  {
   "cell_type": "markdown",
   "id": "ed6e7b81",
   "metadata": {},
   "source": [
    "### Ejercicio 13\n",
    "\n",
    "- Calcula la cantidad de segundos que han pasado desde el **`01-Jan-2023`**."
   ]
  },
  {
   "cell_type": "code",
   "execution_count": null,
   "id": "66ebcc7c",
   "metadata": {},
   "outputs": [],
   "source": []
  },
  {
   "cell_type": "code",
   "execution_count": null,
   "id": "462a0e80",
   "metadata": {},
   "outputs": [],
   "source": []
  },
  {
   "cell_type": "code",
   "execution_count": null,
   "id": "862141bf",
   "metadata": {},
   "outputs": [],
   "source": []
  }
 ],
 "metadata": {
  "kernelspec": {
   "display_name": "Python 3 (ipykernel)",
   "language": "python",
   "name": "python3"
  },
  "language_info": {
   "codemirror_mode": {
    "name": "ipython",
    "version": 3
   },
   "file_extension": ".py",
   "mimetype": "text/x-python",
   "name": "python",
   "nbconvert_exporter": "python",
   "pygments_lexer": "ipython3",
   "version": "3.11.4"
  }
 },
 "nbformat": 4,
 "nbformat_minor": 5
}
