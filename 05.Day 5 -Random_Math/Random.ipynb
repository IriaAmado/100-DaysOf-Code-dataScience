{
 "cells": [
  {
   "cell_type": "markdown",
   "id": "b30a70df-cdcc-4e11-a1a9-85fae2f64ad3",
   "metadata": {},
   "source": [
    " # Libreria random\n"
   ]
  },
  {
   "cell_type": "markdown",
   "id": "879e0b7b-a8c8-4eb5-92ad-f08cc806257e",
   "metadata": {},
   "source": [
    "La librería random en Python es muy útil para generar números aleatorios y realizar otras operaciones aleatorias. Es especialmente útil en situaciones donde necesitas simular eventos aleatorios o seleccionar elementos al azar. "
   ]
  },
  {
   "cell_type": "markdown",
   "id": "8769bc9c-aa8d-4e1c-a4df-91236d8ec6e2",
   "metadata": {
    "tags": []
   },
   "source": [
    "# Funciones Principales de la Librería random \n",
    "\n",
    "random.random(): Devuelve un número de punto flotante aleatorio entre 0.0 y 1.0.\n",
    "\n",
    "random.uniform(a, b): Devuelve un número de punto flotante aleatorio entre los valores a y b (ambos incluidos).\n",
    "\n",
    "random.randint(a, b): Devuelve un número entero aleatorio entre a y b (ambos incluidos).\n",
    "\n",
    "random.randrange(start, stop[, step]): Devuelve un elemento seleccionado aleatoriamente del rango creado por start, stop, y step.\n",
    "\n",
    "random.choice(seq): Devuelve un elemento aleatorio de una secuencia no vacía seq.\n",
    "\n",
    "random.sample(population, k): Devuelve una lista de elementos únicos seleccionados aleatoriamente de la población.\n",
    "\n",
    "random.shuffle(x[, random]): Mezcla la secuencia x en el lugar."
   ]
  },
  {
   "cell_type": "markdown",
   "id": "9d470b6b-74e1-44d6-9847-a6faa25c1f96",
   "metadata": {},
   "source": [
    "# Funciones para Distribuciones Específicas\n",
    "random.gauss(mu, sigma): Muestra de la distribución gaussiana (normal) con media mu y desviación estándar sigma.\n",
    "\n",
    "random.lognormvariate(mu, sigma): Muestra de una distribución logarítmica normal, donde mu y sigma son la media y la desviación estándar del logaritmo de la variable aleatoria.\n",
    "\n",
    "random.expovariate(lambd): Muestra de una distribución exponencial cuya densidad de probabilidad es \n",
    "�\n",
    "�\n",
    "−\n",
    "�\n",
    "�\n",
    "λe \n",
    "−λx\n",
    "  para \n",
    "�\n",
    "≥\n",
    "0\n",
    "x≥0. lambd es \n",
    "1.0\n",
    "1.0 dividido por el parámetro deseado de la media."
   ]
  },
  {
   "cell_type": "markdown",
   "id": "995ddcdc-7e98-4a70-98a1-83a8c0b999af",
   "metadata": {},
   "source": [
    "Para usar estas funciones, primero debes importar la librería random:"
   ]
  },
  {
   "cell_type": "code",
   "execution_count": 2,
   "id": "e25cd969-8a6c-4b83-b5f5-1aa805a1d182",
   "metadata": {
    "tags": []
   },
   "outputs": [],
   "source": [
    "import random\n"
   ]
  },
  {
   "cell_type": "code",
   "execution_count": 3,
   "id": "f4464fbd-1627-4f13-b03e-7ba7c5e7722d",
   "metadata": {
    "tags": []
   },
   "outputs": [
    {
     "data": {
      "text/plain": [
       "0.6714032223358238"
      ]
     },
     "execution_count": 3,
     "metadata": {},
     "output_type": "execute_result"
    }
   ],
   "source": [
    "# Para generar un número aleatorio entre 0 y 1\n",
    "\n",
    "random.random()"
   ]
  },
  {
   "cell_type": "code",
   "execution_count": 4,
   "id": "566f783c-b848-4626-b25d-4c9e109108dc",
   "metadata": {
    "tags": []
   },
   "outputs": [
    {
     "data": {
      "text/plain": [
       "36"
      ]
     },
     "execution_count": 4,
     "metadata": {},
     "output_type": "execute_result"
    }
   ],
   "source": [
    "# Para generar un número aleatorio entero entre un intervalo (entre 1 y 10)\n",
    "\n",
    "random.randint(0, 36)"
   ]
  },
  {
   "cell_type": "code",
   "execution_count": 5,
   "id": "d9751a62-293c-4199-a49c-445447694434",
   "metadata": {
    "tags": []
   },
   "outputs": [
    {
     "name": "stdout",
     "output_type": "stream",
     "text": [
      "5\n",
      "1\n",
      "1\n",
      "1\n",
      "1\n",
      "1\n",
      "5\n",
      "7\n",
      "9\n",
      "9\n"
     ]
    }
   ],
   "source": [
    "# Para generar numeros aleatorios dentro de una range con paso\n",
    "\n",
    "for i in range(10):\n",
    "    print(random.randrange(1, 10, 2))"
   ]
  },
  {
   "cell_type": "code",
   "execution_count": 6,
   "id": "b7cf38a1-4122-4244-a0a1-ff42bc53d248",
   "metadata": {
    "tags": []
   },
   "outputs": [
    {
     "name": "stdout",
     "output_type": "stream",
     "text": [
      "Número aleatorio entre 10 y 20: 20\n"
     ]
    }
   ],
   "source": [
    "# Número aleatorio entre 10 y 20\n",
    "num = random.randint(10, 20)\n",
    "print(\"Número aleatorio entre 10 y 20:\", num)"
   ]
  },
  {
   "cell_type": "code",
   "execution_count": 7,
   "id": "352e4253-f867-40e8-93c3-293c2da3d27d",
   "metadata": {
    "tags": []
   },
   "outputs": [
    {
     "name": "stdout",
     "output_type": "stream",
     "text": [
      "Número aleatorio de una distribución gaussiana: -0.7305978831278789\n"
     ]
    }
   ],
   "source": [
    "# Número aleatorio de una distribución gaussiana\n",
    "num = random.gauss(0, 1)\n",
    "print(\"Número aleatorio de una distribución gaussiana:\", num)"
   ]
  },
  {
   "cell_type": "markdown",
   "id": "e1cbfb77-bbf1-41e2-a090-b91210762b4c",
   "metadata": {},
   "source": [
    "La librería random en Python ofrece varias funciones útiles para seleccionar elementos al azar de una secuencia (como una lista). Las funciones choice, choices y sample son particularmente útiles para diferentes escenarios de selección aleatoria. A continuación, te detallo cómo funciona cada una de estas:\n",
    "\n",
    "# 1. random.choice(seq)\n",
    "Esta función devuelve un elemento aleatorio de una secuencia no vacía seq, como una lista. Por ejemplo, si tienes una lista de frutas y quieres seleccionar una al azar, podrías usar random.choice."
   ]
  },
  {
   "cell_type": "code",
   "execution_count": 8,
   "id": "b7c5730a-6f24-46e7-b3be-04e1423fd520",
   "metadata": {
    "tags": []
   },
   "outputs": [
    {
     "name": "stdout",
     "output_type": "stream",
     "text": [
      "cereza\n"
     ]
    }
   ],
   "source": [
    "import random\n",
    "\n",
    "frutas = ['manzana', 'banana', 'cereza', 'durazno']\n",
    "fruta_seleccionada = random.choice(frutas)\n",
    "print(fruta_seleccionada)\n"
   ]
  },
  {
   "cell_type": "markdown",
   "id": "5dea52e7-7635-49e7-b556-7e835cd35a74",
   "metadata": {},
   "source": [
    "# 2. random.choices(population, weights=None, *, cum_weights=None, k=1)\n",
    "random.choices devuelve una lista de elementos seleccionados de la population, siendo posible seleccionar un mismo elemento más de una vez. Esta función es útil para realizar selecciones con reemplazo. Además, puedes especificar pesos para influir en la probabilidad de selección de cada elemento."
   ]
  },
  {
   "cell_type": "code",
   "execution_count": 9,
   "id": "e4257cd4-88d1-41a4-afbd-a34f8f5ef091",
   "metadata": {
    "tags": []
   },
   "outputs": [
    {
     "name": "stdout",
     "output_type": "stream",
     "text": [
      "['amarillo', 'verde', 'azul']\n"
     ]
    }
   ],
   "source": [
    "colores = ['rojo', 'verde', 'azul', 'amarillo']\n",
    "colores_seleccionados = random.choices(colores, k=3)\n",
    "print(colores_seleccionados)\n"
   ]
  },
  {
   "cell_type": "markdown",
   "id": "c0f89863-277d-4259-94df-3e1529e5773f",
   "metadata": {},
   "source": [
    "# 3. random.sample(population, k)\n",
    "A diferencia de choices, la función sample selecciona k elementos únicos de la population. Es decir, realiza una selección sin reemplazo. Es útil cuando necesitas varios elementos aleatorios de una secuencia pero quieres asegurarte de que no haya duplicados."
   ]
  },
  {
   "cell_type": "code",
   "execution_count": 10,
   "id": "c5a57edf-36ab-4d0b-95ef-149bbf933a05",
   "metadata": {
    "tags": []
   },
   "outputs": [
    {
     "name": "stdout",
     "output_type": "stream",
     "text": [
      "[3, 8, 5]\n"
     ]
    }
   ],
   "source": [
    "numeros = [1, 2, 3, 4, 5, 6, 7, 8, 9, 10]\n",
    "numeros_seleccionados = random.sample(numeros, 3)\n",
    "print(numeros_seleccionados)\n"
   ]
  },
  {
   "cell_type": "code",
   "execution_count": 11,
   "id": "03e4b687-d1c8-48b6-b467-546fddb49301",
   "metadata": {
    "tags": []
   },
   "outputs": [],
   "source": [
    "# Ejercicios"
   ]
  },
  {
   "cell_type": "markdown",
   "id": "6b1e84f9-2145-4bb5-807b-daf3214830ab",
   "metadata": {},
   "source": [
    "Crea una lista de 10 numeros enteros aleatorios entre el rango de 10 y 20 utilizando la función random.randint()"
   ]
  },
  {
   "cell_type": "code",
   "execution_count": 13,
   "id": "b9a3b4dd-7c89-4c61-a8e1-e71dbc21eefe",
   "metadata": {
    "tags": []
   },
   "outputs": [],
   "source": [
    "import random\n",
    "\n",
    "# Crear una lista de 10 números enteros aleatorios entre 10 y 20\n",
    "lista_numeros_aleatorios = [random.randint(10, 20) for _ in range(10)]\n"
   ]
  },
  {
   "cell_type": "code",
   "execution_count": 14,
   "id": "9ead5d50-acd4-4879-99bd-6d5cab5a3185",
   "metadata": {
    "tags": []
   },
   "outputs": [
    {
     "data": {
      "text/plain": [
       "[17, 19, 20, 16, 18, 19, 15, 13, 14, 14]"
      ]
     },
     "execution_count": 14,
     "metadata": {},
     "output_type": "execute_result"
    }
   ],
   "source": [
    "lista_numeros_aleatorios"
   ]
  },
  {
   "cell_type": "markdown",
   "id": "5ec17d10-4a6d-4720-b193-8e826df244ed",
   "metadata": {},
   "source": [
    "Genera una lista de 100 numero enteros aleatorios entre 0 y 100.Genera otra lista con solo los números pares de la primera lista.Extra: Hacer este ejercicio usando 1 solo bucle."
   ]
  },
  {
   "cell_type": "code",
   "execution_count": 15,
   "id": "91d6908b-5aa4-4afa-99c7-7d1e4ace1743",
   "metadata": {
    "tags": []
   },
   "outputs": [],
   "source": [
    "import random\n",
    "\n",
    "lista_numeros_aleatorios = []\n",
    "lista_pares = []\n",
    "\n",
    "for _ in range(100):\n",
    "    numero = random.randint(0, 100)\n",
    "    lista_numeros_aleatorios.append(numero)\n",
    "    if numero % 2 == 0:\n",
    "        lista_pares.append(numero)\n"
   ]
  },
  {
   "cell_type": "code",
   "execution_count": null,
   "id": "461e5734-60a9-4377-81a0-fb12c1a95cf8",
   "metadata": {},
   "outputs": [],
   "source": []
  }
 ],
 "metadata": {
  "kernelspec": {
   "display_name": "Python 3 (ipykernel)",
   "language": "python",
   "name": "python3"
  },
  "language_info": {
   "codemirror_mode": {
    "name": "ipython",
    "version": 3
   },
   "file_extension": ".py",
   "mimetype": "text/x-python",
   "name": "python",
   "nbconvert_exporter": "python",
   "pygments_lexer": "ipython3",
   "version": "3.11.4"
  }
 },
 "nbformat": 4,
 "nbformat_minor": 5
}
