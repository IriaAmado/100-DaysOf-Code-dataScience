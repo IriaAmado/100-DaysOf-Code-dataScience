{
 "cells": [
  {
   "cell_type": "markdown",
   "id": "9ddc568a-1e72-46cc-983c-3f73037fbe7d",
   "metadata": {},
   "source": [
    "##  Libreria math"
   ]
  },
  {
   "cell_type": "markdown",
   "id": "df8d24d5-6acb-42e9-b806-4e4eb1acec41",
   "metadata": {},
   "source": [
    "La librería math de Python proporciona acceso a funciones matemáticas definidas por el estándar C. Es muy útil para realizar cálculos matemáticos complejos que van más allá de las operaciones aritméticas básicas disponibles directamente en Python. A continuación, te presento algunas de las funciones y constantes más comunes y útiles que ofrece esta librería:"
   ]
  },
  {
   "cell_type": "markdown",
   "id": "7f2a5229-ed08-4481-a742-2dc81f37d75f",
   "metadata": {},
   "source": [
    "# Funciones en la Librería math"
   ]
  },
  {
   "cell_type": "markdown",
   "id": "2b5652b9-6e15-445e-b0b7-69c4e08d39cd",
   "metadata": {
    "tags": []
   },
   "source": [
    "Función\n",
    "Descripción\n",
    "\n",
    "\n",
    "\n",
    "math.ceil(x)\n",
    "Redondea \"x\" hacia arriba\n",
    "\n",
    "\n",
    "math.floor(x)\n",
    "Redondea \"x\" hacia abajo\n",
    "\n",
    "\n",
    "math.fabs(x)\n",
    "Retorna el valor absoluto de \"x\"\n",
    "\n",
    "\n",
    "math.factorial(x)\n",
    "Retorna el factorial de \"x\"\n",
    "\n",
    "\n",
    "math.fmod(x, y)\n",
    "Retorna el resto de dividir \"x\" con \"y\"\n",
    "\n",
    "\n",
    "math.fsum(x)\n",
    "Calcula la suma de los números en \"x\"\n",
    "\n",
    "\n",
    "math.trunc(x)\n",
    "Retorna la parte entera de \"x\"\n",
    "\n",
    "\n",
    "math.exp(x)\n",
    "Calcula la exponencial de \"x\"\n",
    "\n",
    "\n",
    "math.log2(x)\n",
    "Calcula Logaritmo base 2 de \"x\"\n",
    "\n",
    "\n",
    "math.log10(x)\n",
    "Calcula Logaritmo base 10 de \"x\"\n",
    "\n",
    "\n",
    "math.pow(x, y)\n",
    "Calcula \"x\" elevado a \"y\"\n",
    "\n",
    "\n",
    "math.sqrt(x)\n",
    "Calcula la raiz cuadrada de \"x\"\n",
    "\n",
    "\n",
    "math.sin(x)\n",
    "Calcula el seno de \"x\"\n",
    "\n",
    "\n",
    "math.cos(x)\n",
    "Calcula el coseno de \"x\"\n",
    "\n",
    "\n",
    "math.asin(x)\n",
    "Calcula el arcoseno de \"x\"\n",
    "\n",
    "\n",
    "math.acos(x)\n",
    "Calcula el arcocoseno de \"x\"\n",
    "\n",
    "\n",
    "math.tan(x)\n",
    "Calcula la tangente de \"x\"\n",
    "\n",
    "\n",
    "math.degrees(x)\n",
    "Transforma el angulo \"x\" de radianes a grados\n",
    "\n",
    "\n",
    "math.radians(x)\n",
    "Transforma el angulo \"x\" de grados a radianes\n",
    "\n",
    "\n",
    "math.pi\n",
    "Constante numero pi\n",
    "\n",
    "\n",
    "math.e\n",
    "Constante numero e"
   ]
  },
  {
   "cell_type": "markdown",
   "id": "016742dd-ebca-4a7b-9471-79b057997d64",
   "metadata": {},
   "source": []
  },
  {
   "cell_type": "markdown",
   "id": "deed4bf9-031e-4297-974c-1e860a256958",
   "metadata": {},
   "source": [
    " importar la librería math en tu script o sesión de Python:"
   ]
  },
  {
   "cell_type": "code",
   "execution_count": 2,
   "id": "8e65798a-6523-4bd5-9f60-84158e32353f",
   "metadata": {
    "tags": []
   },
   "outputs": [],
   "source": [
    "import math\n"
   ]
  },
  {
   "cell_type": "markdown",
   "id": "6516ef89-b928-40d6-9f34-0a0fe4d2793b",
   "metadata": {},
   "source": [
    "Por ejemplo, para calcular la raíz cuadrada de 16 y el seno de π/2, harías lo siguiente:"
   ]
  },
  {
   "cell_type": "code",
   "execution_count": 3,
   "id": "873eb25a-1549-43ab-b562-8438662f6a7e",
   "metadata": {
    "tags": []
   },
   "outputs": [
    {
     "name": "stdout",
     "output_type": "stream",
     "text": [
      "Raíz cuadrada de 16: 4.0\n",
      "Seno de π/2: 1.0\n"
     ]
    }
   ],
   "source": [
    "raiz_cuadrada = math.sqrt(16)\n",
    "seno = math.sin(math.pi / 2)\n",
    "\n",
    "print(\"Raíz cuadrada de 16:\", raiz_cuadrada)\n",
    "print(\"Seno de π/2:\", seno)\n"
   ]
  },
  {
   "cell_type": "code",
   "execution_count": 4,
   "id": "bb15e1b0-9d06-4594-826f-88dbe2f4ff94",
   "metadata": {
    "tags": []
   },
   "outputs": [
    {
     "data": {
      "text/plain": [
       "3.141592653589793"
      ]
     },
     "execution_count": 4,
     "metadata": {},
     "output_type": "execute_result"
    }
   ],
   "source": [
    " math.pi"
   ]
  },
  {
   "cell_type": "code",
   "execution_count": 6,
   "id": "5beb8bd9-b06a-4f82-8b5b-303d5f642e2d",
   "metadata": {
    "tags": []
   },
   "outputs": [],
   "source": [
    "x = 10.10019"
   ]
  },
  {
   "cell_type": "code",
   "execution_count": 7,
   "id": "91b6715d-5d1b-4c35-83d1-aefabb3fc776",
   "metadata": {
    "tags": []
   },
   "outputs": [
    {
     "data": {
      "text/plain": [
       "11"
      ]
     },
     "execution_count": 7,
     "metadata": {},
     "output_type": "execute_result"
    }
   ],
   "source": [
    "math.ceil(x)"
   ]
  },
  {
   "cell_type": "code",
   "execution_count": 8,
   "id": "e2f6e12d-ea21-43b4-89e2-14cde3d06082",
   "metadata": {
    "tags": []
   },
   "outputs": [
    {
     "data": {
      "text/plain": [
       "1.0043295436019921"
      ]
     },
     "execution_count": 8,
     "metadata": {},
     "output_type": "execute_result"
    }
   ],
   "source": [
    "math.log10(x)"
   ]
  },
  {
   "cell_type": "code",
   "execution_count": 9,
   "id": "8e4cdac8-dc78-41ce-ba36-9dbdf2462f68",
   "metadata": {
    "tags": []
   },
   "outputs": [
    {
     "data": {
      "text/plain": [
       "1.2246467991473532e-16"
      ]
     },
     "execution_count": 9,
     "metadata": {},
     "output_type": "execute_result"
    }
   ],
   "source": [
    " math.sin(math.pi)"
   ]
  },
  {
   "cell_type": "code",
   "execution_count": 10,
   "id": "a951291a-94af-4d6d-946e-31e8298c4f2b",
   "metadata": {
    "tags": []
   },
   "outputs": [
    {
     "data": {
      "text/plain": [
       "10"
      ]
     },
     "execution_count": 10,
     "metadata": {},
     "output_type": "execute_result"
    }
   ],
   "source": [
    "math.trunc(x)"
   ]
  },
  {
   "cell_type": "code",
   "execution_count": null,
   "id": "b06da8a9-2727-474f-99d9-5636e81f503f",
   "metadata": {},
   "outputs": [],
   "source": []
  }
 ],
 "metadata": {
  "kernelspec": {
   "display_name": "Python 3 (ipykernel)",
   "language": "python",
   "name": "python3"
  },
  "language_info": {
   "codemirror_mode": {
    "name": "ipython",
    "version": 3
   },
   "file_extension": ".py",
   "mimetype": "text/x-python",
   "name": "python",
   "nbconvert_exporter": "python",
   "pygments_lexer": "ipython3",
   "version": "3.11.4"
  }
 },
 "nbformat": 4,
 "nbformat_minor": 5
}
