{
 "cells": [
  {
   "cell_type": "markdown",
   "id": "553ee9c5-36a3-481c-a27e-bcec8bc87fdb",
   "metadata": {},
   "source": [
    "# Condicionales en Python \n"
   ]
  },
  {
   "cell_type": "markdown",
   "id": "11195011-5957-4fc7-a050-f85ff7ed7fc5",
   "metadata": {},
   "source": [
    "Este documento explica los conceptos básicos de los condicionales en Python."
   ]
  },
  {
   "cell_type": "markdown",
   "id": "f2637964-7856-4194-8785-732e0465a525",
   "metadata": {},
   "source": [
    "## Introducción a los Condicionales"
   ]
  },
  {
   "cell_type": "markdown",
   "id": "a0bbf153-1c36-49e7-a9cb-be9bbd865cdd",
   "metadata": {},
   "source": [
    "\n",
    "En Python, los condicionales se utilizan para ejecutar diferentes acciones basándose en si una condición específica es verdadera o falsa."
   ]
  },
  {
   "cell_type": "code",
   "execution_count": 1,
   "id": "43ae4f6b-3538-4faa-a2d6-6b103e4a5a79",
   "metadata": {
    "tags": []
   },
   "outputs": [
    {
     "name": "stdout",
     "output_type": "stream",
     "text": [
      "x es mayor que 5\n"
     ]
    }
   ],
   "source": [
    "# Ejemplo básico de un condicional if\n",
    "\n",
    "x = 10\n",
    "if x > 5:\n",
    "    print('x es mayor que 5')"
   ]
  },
  {
   "cell_type": "markdown",
   "id": "c4f59a94-d21b-47f8-a1fc-d997945ac998",
   "metadata": {},
   "source": [
    "## Uso de `elif` y `else`"
   ]
  },
  {
   "cell_type": "markdown",
   "id": "7905b6be-5cc2-47b8-b52f-bc3c9e024ee7",
   "metadata": {},
   "source": [
    "Si se necesitan más condiciones, se pueden agregar con `elif` (que significa 'else if'), y `else` se utiliza para cubrir cualquier caso que no cumpla las condiciones anteriores."
   ]
  },
  {
   "cell_type": "code",
   "execution_count": 2,
   "id": "a2510e53-f607-453e-96e7-324f28ebe529",
   "metadata": {
    "tags": []
   },
   "outputs": [
    {
     "name": "stdout",
     "output_type": "stream",
     "text": [
      "y es mayor que 5\n"
     ]
    }
   ],
   "source": [
    "# Ejemplo de if, elif, y else\n",
    "\n",
    "y = 7\n",
    "if y < 5:\n",
    "    print('y es menor que 5')\n",
    "elif y == 5:\n",
    "    print('y es igual a 5')\n",
    "else:\n",
    "    print('y es mayor que 5')"
   ]
  },
  {
   "cell_type": "markdown",
   "id": "296b4dd4-ebc0-4596-b3de-dd58529f57ad",
   "metadata": {},
   "source": [
    "## Condiciones Anidadas"
   ]
  },
  {
   "cell_type": "markdown",
   "id": "c31f4bea-0cc1-4256-8c2d-bd2b8fe7ddd9",
   "metadata": {},
   "source": [
    "Los condicionales pueden anidarse dentro de otros condicionales. Esto es útil para verificar múltiples condiciones."
   ]
  },
  {
   "cell_type": "code",
   "execution_count": 3,
   "id": "33eeeff4-ddce-4fe7-bb42-27e0acdbb9c4",
   "metadata": {
    "tags": []
   },
   "outputs": [
    {
     "name": "stdout",
     "output_type": "stream",
     "text": [
      "z está entre 5 y 15\n"
     ]
    }
   ],
   "source": [
    "# Ejemplo de condicionales anidados\n",
    "\n",
    "z = 10\n",
    "if z > 5:\n",
    "    if z < 15:\n",
    "        print('z está entre 5 y 15')"
   ]
  },
  {
   "cell_type": "markdown",
   "id": "0b1e6676-bdd1-4be3-b7a9-902dc7d42d22",
   "metadata": {},
   "source": [
    "## Operadores Lógicos "
   ]
  },
  {
   "cell_type": "markdown",
   "id": "b6fb5f8b-2248-4442-ac68-e046eede1e39",
   "metadata": {},
   "source": [
    "Los operadores lógicos como `and`, `or`, y `not` se pueden usar para combinar condiciones."
   ]
  },
  {
   "cell_type": "code",
   "execution_count": 4,
   "id": "7efcfd6f-f4e7-42d1-8a74-11f3e7d597c1",
   "metadata": {
    "tags": []
   },
   "outputs": [
    {
     "name": "stdout",
     "output_type": "stream",
     "text": [
      "a es positivo y b es menor que 15\n"
     ]
    }
   ],
   "source": [
    "# Ejemplo utilizando operadores lógicos\n",
    "\n",
    "a = 5\n",
    "b = 10\n",
    "if a > 0 and b < 15:\n",
    "    print('a es positivo y b es menor que 15')"
   ]
  },
  {
   "cell_type": "markdown",
   "id": "930c81cd-5400-4fa0-8285-f5ead88e4235",
   "metadata": {},
   "source": [
    "# Ejercicios de Condicionales en Python"
   ]
  },
  {
   "cell_type": "markdown",
   "id": "9afdd22e-fcab-4d56-9c46-e57a79abcbb0",
   "metadata": {},
   "source": [
    "## Ejercicio 1: Mayor o Menor\n",
    "\n",
    "Escribe un programa que compare dos números y muestre si el primero es mayor, menor o igual al segundo."
   ]
  },
  {
   "cell_type": "code",
   "execution_count": 5,
   "id": "c97e3cae-26a3-4c0f-816d-5d1445d20f44",
   "metadata": {
    "tags": []
   },
   "outputs": [
    {
     "name": "stdin",
     "output_type": "stream",
     "text": [
      "Introduce el primer número:  5\n",
      "Introduce el segundo número:  3\n"
     ]
    },
    {
     "name": "stdout",
     "output_type": "stream",
     "text": [
      "El primer número (5.0) es mayor que el segundo (3.0).\n"
     ]
    }
   ],
   "source": [
    "# Input: Dos números\n",
    "num1 = float(input(\"Introduce el primer número: \"))\n",
    "num2 = float(input(\"Introduce el segundo número: \"))\n",
    "\n",
    "# Comparar los números y mostrar el resultado\n",
    "if num1 > num2:\n",
    "    print(f\"El primer número ({num1}) es mayor que el segundo ({num2}).\")\n",
    "elif num1 < num2:\n",
    "    print(f\"El primer número ({num1}) es menor que el segundo ({num2}).\")\n",
    "else:\n",
    "    print(f\"El primer número ({num1}) es igual al segundo ({num2}).\")\n"
   ]
  },
  {
   "cell_type": "markdown",
   "id": "8913e735-1560-4959-a665-7c1eda7f888c",
   "metadata": {},
   "source": [
    "# Ejercicio 2: Clasificación por Edad\n",
    "\n",
    "Crea un programa que lea la edad de una persona e imprima si es niño (menor de 12), adolescente (entre 12 y 18), adulto (entre 19 y 65) o mayor (mayor de 65)."
   ]
  },
  {
   "cell_type": "code",
   "execution_count": 6,
   "id": "bc4ab142-0447-49f8-ad9e-0a1d804ee5a9",
   "metadata": {
    "tags": []
   },
   "outputs": [
    {
     "name": "stdin",
     "output_type": "stream",
     "text": [
      "Introduce tu edad:  12\n"
     ]
    },
    {
     "name": "stdout",
     "output_type": "stream",
     "text": [
      "Eres un adolescente.\n"
     ]
    }
   ],
   "source": [
    "# Input: Edad de la persona\n",
    "edad = int(input(\"Introduce tu edad: \"))\n",
    "\n",
    "# Clasificación por edad\n",
    "if edad < 12:\n",
    "    print(\"Eres un niño.\")\n",
    "elif 12 <= edad <= 18:\n",
    "    print(\"Eres un adolescente.\")\n",
    "elif 19 <= edad <= 65:\n",
    "    print(\"Eres un adulto.\")\n",
    "else:\n",
    "    print(\"Eres un mayor.\")\n"
   ]
  },
  {
   "cell_type": "markdown",
   "id": "caf1bd5c-10dd-47a5-aa41-9082bc162860",
   "metadata": {},
   "source": [
    "## Ejercicio 3: Par o Impar\n",
    "\n",
    "Escribe un programa que determine si un número es par o impar."
   ]
  },
  {
   "cell_type": "code",
   "execution_count": 7,
   "id": "767f3007-87ab-424f-9da8-69cd71b4dac3",
   "metadata": {
    "tags": []
   },
   "outputs": [
    {
     "name": "stdin",
     "output_type": "stream",
     "text": [
      "Introduce un número:  6\n"
     ]
    },
    {
     "name": "stdout",
     "output_type": "stream",
     "text": [
      "El número 6 es par.\n"
     ]
    }
   ],
   "source": [
    "# Input: Un número\n",
    "numero = int(input(\"Introduce un número: \"))\n",
    "\n",
    "# Determinar si el número es par o impar\n",
    "if numero % 2 == 0:\n",
    "    print(f\"El número {numero} es par.\")\n",
    "else:\n",
    "    print(f\"El número {numero} es impar.\")\n"
   ]
  },
  {
   "cell_type": "markdown",
   "id": "c1e2f3dc-7610-44e2-88aa-49add16747d5",
   "metadata": {},
   "source": [
    "## Ejercicio 4: Calificación Letra\n",
    "\n",
    "Crea un programa que convierta una calificación numérica (0 a 100) en una calificación de letra (A, B, C, D, F)."
   ]
  },
  {
   "cell_type": "code",
   "execution_count": 9,
   "id": "12b03edd-8c93-4ff8-8b1e-42e3891b0e26",
   "metadata": {
    "tags": []
   },
   "outputs": [
    {
     "name": "stdin",
     "output_type": "stream",
     "text": [
      "Introduce tu calificación (0-100):  67\n"
     ]
    },
    {
     "name": "stdout",
     "output_type": "stream",
     "text": [
      "Tu calificación de letra es: D\n"
     ]
    }
   ],
   "source": [
    "# Input: Calificación numérica\n",
    "calificacion = float(input(\"Introduce tu calificación (0-100): \"))\n",
    "\n",
    "# Convertir la calificación numérica en calificación de letra\n",
    "if 90 <= calificacion <= 100:\n",
    "    letra = 'A'\n",
    "elif 80 <= calificacion < 90:\n",
    "    letra = 'B'\n",
    "elif 70 <= calificacion < 80:\n",
    "    letra = 'C'\n",
    "elif 60 <= calificacion < 70:\n",
    "    letra = 'D'\n",
    "elif 0 <= calificacion < 60:\n",
    "    letra = 'F'\n",
    "else:\n",
    "    letra = 'Invalida'\n",
    "\n",
    "# Mostrar el resultado\n",
    "if letra != 'Invalida':\n",
    "    print(f\"Tu calificación de letra es: {letra}\")\n",
    "else:\n",
    "    print(\"La calificación introducida no es válida.\")\n",
    "\n"
   ]
  },
  {
   "cell_type": "code",
   "execution_count": 10,
   "id": "73f9a125-cd1e-465a-9d27-76422b16ff34",
   "metadata": {
    "tags": []
   },
   "outputs": [
    {
     "name": "stdin",
     "output_type": "stream",
     "text": [
      "Introduce el mes (ej. marzo, abril):  enero\n",
      "Introduce el día:  5\n"
     ]
    },
    {
     "name": "stdout",
     "output_type": "stream",
     "text": [
      "La fecha ingresada corresponde a la estación de Invierno.\n"
     ]
    }
   ],
   "source": [
    "# Input: Mes y día\n",
    "mes = input(\"Introduce el mes (ej. marzo, abril): \").lower()\n",
    "dia = int(input(\"Introduce el día: \"))\n",
    "\n",
    "# Determinar la estación del año\n",
    "if (mes == \"marzo\" and dia >= 21) or mes in [\"abril\", \"mayo\"] or (mes == \"junio\" and dia < 21):\n",
    "    estacion = \"Primavera\"\n",
    "elif (mes == \"junio\" and dia >= 21) or mes in [\"julio\", \"agosto\"] or (mes == \"septiembre\" and dia < 21):\n",
    "    estacion = \"Verano\"\n",
    "elif (mes == \"septiembre\" and dia >= 21) or mes in [\"octubre\", \"noviembre\"] or (mes == \"diciembre\" and dia < 21):\n",
    "    estacion = \"Otoño\"\n",
    "elif (mes == \"diciembre\" and dia >= 21) or mes in [\"enero\", \"febrero\"] or (mes == \"marzo\" and dia < 21):\n",
    "    estacion = \"Invierno\"\n",
    "else:\n",
    "    estacion = \"fecha inválida\"\n",
    "\n",
    "# Mostrar el resultado\n",
    "if estacion != \"fecha inválida\":\n",
    "    print(f\"La fecha ingresada corresponde a la estación de {estacion}.\")\n",
    "else:\n",
    "    print(\"Has introducido una fecha inválida.\")\n"
   ]
  },
  {
   "cell_type": "code",
   "execution_count": null,
   "id": "5f413dca-6b1c-4b6b-a594-c1edf172d37c",
   "metadata": {},
   "outputs": [],
   "source": []
  }
 ],
 "metadata": {
  "kernelspec": {
   "display_name": "Python 3 (ipykernel)",
   "language": "python",
   "name": "python3"
  },
  "language_info": {
   "codemirror_mode": {
    "name": "ipython",
    "version": 3
   },
   "file_extension": ".py",
   "mimetype": "text/x-python",
   "name": "python",
   "nbconvert_exporter": "python",
   "pygments_lexer": "ipython3",
   "version": "3.11.4"
  }
 },
 "nbformat": 4,
 "nbformat_minor": 5
}
