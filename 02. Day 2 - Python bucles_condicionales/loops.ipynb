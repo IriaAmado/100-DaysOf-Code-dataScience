{
 "cells": [
  {
   "cell_type": "markdown",
   "id": "6ed4a379-4618-47b0-97c9-40fa5c440304",
   "metadata": {},
   "source": [
    "# Tipos de Variables y Loops en Python\n",
    "\n",
    "Este documento proporciona una visión general de los tipos de variables y estructuras de loops en Python."
   ]
  },
  {
   "cell_type": "markdown",
   "id": "cc72816d-8a67-49c4-922b-aee01e67a08e",
   "metadata": {},
   "source": [
    "## Tipos de Variables en Python\n",
    "\n",
    "Python tiene varios tipos de variables, incluyendo enteros, flotantes, cadenas de texto, listas, tuplas y diccionarios."
   ]
  },
  {
   "cell_type": "code",
   "execution_count": 1,
   "id": "069007b1-75c9-4abf-83cb-4eb4485e19a6",
   "metadata": {
    "tags": []
   },
   "outputs": [],
   "source": [
    "# Ejemplos de tipos de variables\n",
    "entero = 5\n",
    "flotante = 5.0\n",
    "cadena = 'Hola'\n",
    "lista = [1, 2, 3]\n",
    "tupla = (1, 2, 3)\n",
    "diccionario = {'clave1': 'valor1', 'clave2': 'valor2'}"
   ]
  },
  {
   "cell_type": "markdown",
   "id": "95b43bae-0b49-4671-9850-768bbc151476",
   "metadata": {},
   "source": [
    "## Loops en Python\n",
    "\n",
    "Los loops permiten ejecutar un bloque de código repetidamente. Python proporciona principalmente dos tipos de loops: `for` y `while`."
   ]
  },
  {
   "cell_type": "markdown",
   "id": "218affb9-eda2-47d8-9dd6-3b41ed55cb53",
   "metadata": {},
   "source": [
    "### Loop For\n",
    "\n",
    "El loop `for` se utiliza para iterar sobre una secuencia (como una lista, una tupla, un diccionario, un conjunto o una cadena)."
   ]
  },
  {
   "cell_type": "code",
   "execution_count": 2,
   "id": "0eba52be-95b5-4230-9d66-60336c1629dc",
   "metadata": {
    "tags": []
   },
   "outputs": [
    {
     "name": "stdout",
     "output_type": "stream",
     "text": [
      "0\n",
      "1\n",
      "2\n",
      "3\n",
      "4\n"
     ]
    }
   ],
   "source": [
    "# Ejemplo de loop for\n",
    "for i in range(5):\n",
    "    print(i)"
   ]
  },
  {
   "cell_type": "code",
   "execution_count": null,
   "id": "257fff70-74d3-4c1e-b6fa-0927dac666af",
   "metadata": {},
   "outputs": [],
   "source": []
  }
 ],
 "metadata": {
  "kernelspec": {
   "display_name": "Python 3 (ipykernel)",
   "language": "python",
   "name": "python3"
  },
  "language_info": {
   "codemirror_mode": {
    "name": "ipython",
    "version": 3
   },
   "file_extension": ".py",
   "mimetype": "text/x-python",
   "name": "python",
   "nbconvert_exporter": "python",
   "pygments_lexer": "ipython3",
   "version": "3.11.4"
  }
 },
 "nbformat": 4,
 "nbformat_minor": 5
}
