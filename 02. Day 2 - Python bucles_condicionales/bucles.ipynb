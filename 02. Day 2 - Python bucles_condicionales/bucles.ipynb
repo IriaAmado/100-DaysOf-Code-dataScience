{
 "cells": [
  {
   "cell_type": "markdown",
   "id": "6ed4a379-4618-47b0-97c9-40fa5c440304",
   "metadata": {},
   "source": [
    "# Tipos de Variables y Loops en Python\n",
    "\n",
    "Este documento proporciona una visión general de los tipos de variables y estructuras de loops en Python."
   ]
  },
  {
   "cell_type": "markdown",
   "id": "cc72816d-8a67-49c4-922b-aee01e67a08e",
   "metadata": {},
   "source": [
    "## Tipos de Variables en Python\n",
    "\n",
    "Python tiene varios tipos de variables, incluyendo enteros, flotantes, cadenas de texto, listas, tuplas y diccionarios."
   ]
  },
  {
   "cell_type": "code",
   "execution_count": 1,
   "id": "069007b1-75c9-4abf-83cb-4eb4485e19a6",
   "metadata": {
    "tags": []
   },
   "outputs": [],
   "source": [
    "# Ejemplos de tipos de variables\n",
    "entero = 5\n",
    "flotante = 5.0\n",
    "cadena = 'Hola'\n",
    "lista = [1, 2, 3]\n",
    "tupla = (1, 2, 3)\n",
    "diccionario = {'clave1': 'valor1', 'clave2': 'valor2'}"
   ]
  },
  {
   "cell_type": "markdown",
   "id": "95b43bae-0b49-4671-9850-768bbc151476",
   "metadata": {},
   "source": [
    "## Loops en Python\n",
    "\n",
    "Los loops permiten ejecutar un bloque de código repetidamente. Python proporciona principalmente dos tipos de loops: `for` y `while`."
   ]
  },
  {
   "cell_type": "markdown",
   "id": "218affb9-eda2-47d8-9dd6-3b41ed55cb53",
   "metadata": {},
   "source": [
    "### Loop For\n",
    "\n",
    "El loop `for` se utiliza para iterar sobre una secuencia (como una lista, una tupla, un diccionario, sets o una cadena)."
   ]
  },
  {
   "cell_type": "code",
   "execution_count": 2,
   "id": "0eba52be-95b5-4230-9d66-60336c1629dc",
   "metadata": {
    "tags": []
   },
   "outputs": [
    {
     "name": "stdout",
     "output_type": "stream",
     "text": [
      "0\n",
      "1\n",
      "2\n",
      "3\n",
      "4\n"
     ]
    }
   ],
   "source": [
    "# Ejemplo de loop for\n",
    "for i in range(5):\n",
    "    print(i)"
   ]
  },
  {
   "cell_type": "markdown",
   "id": "728949b1-e91a-420e-ac1d-bd428698cd4a",
   "metadata": {},
   "source": [
    "### Loop While\n",
    "\n",
    "El loop `while` se ejecuta mientras una condición especificada sea verdadera."
   ]
  },
  {
   "cell_type": "code",
   "execution_count": 3,
   "id": "c43d83a9-eed0-47df-a50a-17baa29e4cf0",
   "metadata": {
    "tags": []
   },
   "outputs": [
    {
     "name": "stdout",
     "output_type": "stream",
     "text": [
      "0\n",
      "1\n",
      "2\n",
      "3\n",
      "4\n"
     ]
    }
   ],
   "source": [
    "# Ejemplo de loop while\n",
    "contador = 0\n",
    "while contador < 5:\n",
    "    print(contador)\n",
    "    contador += 1"
   ]
  },
  {
   "cell_type": "markdown",
   "id": "05130a08-4132-4e52-8b65-880ecc99ceb3",
   "metadata": {},
   "source": [
    "\n",
    " Dada la siguiente **lista = [1, 2, 3, 4, 5, 6, 7, 8, 9, 10]**, imprimir cada número sumandole 10 unidades utilizando un bucle **`for`**."
   ]
  },
  {
   "cell_type": "code",
   "execution_count": 4,
   "id": "552e3f2e-55cc-4a82-aed8-25c43fdf4b6a",
   "metadata": {
    "tags": []
   },
   "outputs": [
    {
     "name": "stdout",
     "output_type": "stream",
     "text": [
      "11\n",
      "12\n",
      "13\n",
      "14\n",
      "15\n",
      "16\n",
      "17\n",
      "18\n",
      "19\n",
      "20\n"
     ]
    }
   ],
   "source": [
    "# Lista proporcionada\n",
    "lista = [1, 2, 3, 4, 5, 6, 7, 8, 9, 10]\n",
    "\n",
    "# Usar un bucle for para iterar sobre la lista\n",
    "for numero in lista:\n",
    "    # Sumar 10 a cada número e imprimir el resultado\n",
    "    print(numero + 10)\n"
   ]
  },
  {
   "cell_type": "markdown",
   "id": "ac766ea3-ad81-4d26-a9c9-d1cea1488be1",
   "metadata": {},
   "source": [
    "Crear una lista vacia.\n",
    "Llenar la lista con los numero del 200 al 215 usando un bucle for."
   ]
  },
  {
   "cell_type": "code",
   "execution_count": 5,
   "id": "39b19588-a9ea-43d7-98cb-e634c259b5be",
   "metadata": {
    "tags": []
   },
   "outputs": [
    {
     "name": "stdout",
     "output_type": "stream",
     "text": [
      "[200, 201, 202, 203, 204, 205, 206, 207, 208, 209, 210, 211, 212, 213, 214, 215]\n"
     ]
    }
   ],
   "source": [
    "# Crear una lista vacía\n",
    "lista = []\n",
    "\n",
    "# Usar un bucle for para llenar la lista con los números del 200 al 215\n",
    "for numero in range(200, 216):\n",
    "    lista.append(numero)\n",
    "\n",
    "# Imprimir la lista para verificar\n",
    "print(lista)\n"
   ]
  },
  {
   "cell_type": "markdown",
   "id": "a72897f5-1b89-47c5-9da6-78fb55af5a3f",
   "metadata": {},
   "source": [
    "Crea un bucle que cuente del 10 al 1."
   ]
  },
  {
   "cell_type": "code",
   "execution_count": 6,
   "id": "3da2a51e-c566-49e7-beb8-d3dec28bd353",
   "metadata": {
    "tags": []
   },
   "outputs": [
    {
     "name": "stdout",
     "output_type": "stream",
     "text": [
      "10\n",
      "9\n",
      "8\n",
      "7\n",
      "6\n",
      "5\n",
      "4\n",
      "3\n",
      "2\n",
      "1\n"
     ]
    }
   ],
   "source": [
    "# Usar un bucle for para contar de 10 a 1\n",
    "for numero in range(10, 0, -1):\n",
    "    print(numero)\n"
   ]
  },
  {
   "cell_type": "markdown",
   "id": "d14bd620-37dd-4005-b63b-31f574a2ea66",
   "metadata": {},
   "source": [
    "- Crea una lista con 5 colores diferentes.\n",
    "- Y con bucles anidados imprime las letras de los colores"
   ]
  },
  {
   "cell_type": "code",
   "execution_count": 7,
   "id": "bc19cada-e8a7-4db5-9d46-3a949cde0d2c",
   "metadata": {
    "tags": []
   },
   "outputs": [
    {
     "name": "stdout",
     "output_type": "stream",
     "text": [
      "Letras en el color rojo:\n",
      "r\n",
      "o\n",
      "j\n",
      "o\n",
      "---\n",
      "Letras en el color azul:\n",
      "a\n",
      "z\n",
      "u\n",
      "l\n",
      "---\n",
      "Letras en el color verde:\n",
      "v\n",
      "e\n",
      "r\n",
      "d\n",
      "e\n",
      "---\n",
      "Letras en el color amarillo:\n",
      "a\n",
      "m\n",
      "a\n",
      "r\n",
      "i\n",
      "l\n",
      "l\n",
      "o\n",
      "---\n",
      "Letras en el color naranja:\n",
      "n\n",
      "a\n",
      "r\n",
      "a\n",
      "n\n",
      "j\n",
      "a\n",
      "---\n"
     ]
    }
   ],
   "source": [
    "# Lista con 5 colores diferentes\n",
    "colores = [\"rojo\", \"azul\", \"verde\", \"amarillo\", \"naranja\"]\n",
    "\n",
    "# Bucle anidado para imprimir las letras de los colores\n",
    "for color in colores:\n",
    "    print(f\"Letras en el color {color}:\")\n",
    "    for letra in color:\n",
    "        print(letra)\n",
    "    print(\"---\")  # Separador para cada color\n"
   ]
  },
  {
   "cell_type": "code",
   "execution_count": null,
   "id": "61c75a46-980e-4a01-b80b-28a5cabf1a6f",
   "metadata": {},
   "outputs": [],
   "source": []
  }
 ],
 "metadata": {
  "kernelspec": {
   "display_name": "Python 3 (ipykernel)",
   "language": "python",
   "name": "python3"
  },
  "language_info": {
   "codemirror_mode": {
    "name": "ipython",
    "version": 3
   },
   "file_extension": ".py",
   "mimetype": "text/x-python",
   "name": "python",
   "nbconvert_exporter": "python",
   "pygments_lexer": "ipython3",
   "version": "3.11.4"
  }
 },
 "nbformat": 4,
 "nbformat_minor": 5
}
