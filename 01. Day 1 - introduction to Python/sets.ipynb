{
 "cells": [
  {
   "cell_type": "markdown",
   "id": "9fba2c35-5cbb-4890-9439-af0bef4fa5e0",
   "metadata": {},
   "source": [
    "### Sets en Python"
   ]
  },
  {
   "cell_type": "markdown",
   "id": "9125e327-5c21-43b6-bf39-f5e1c58049b5",
   "metadata": {},
   "source": [
    "Este cuaderno explora diversos aspectos de los sets en Python, incluyendo su creación, operaciones básicas y avanzadas, y usos comunes.\n"
   ]
  },
  {
   "cell_type": "markdown",
   "id": "0fedddc3-306a-4424-b2c5-22946c34b2c9",
   "metadata": {},
   "source": [
    "### Creación de Sets"
   ]
  },
  {
   "cell_type": "code",
   "execution_count": 1,
   "id": "3f0821fc-a410-4ea0-b778-4dc044f0fc2c",
   "metadata": {
    "tags": []
   },
   "outputs": [
    {
     "name": "stdout",
     "output_type": "stream",
     "text": [
      "Set simple: {1, 2, 3, 4, 5}\n",
      "Set a partir de una lista: {1, 2, 3, 4, 5}\n"
     ]
    }
   ],
   "source": [
    "# Creación de un set con valores únicos\n",
    "simple_set = {1, 2, 3, 4, 5}\n",
    "print(\"Set simple:\", simple_set)\n",
    "\n",
    "# Creación de un set a partir de una lista (para eliminar duplicados)\n",
    "list_to_set = set([1, 2, 2, 3, 4, 4, 5])\n",
    "print(\"Set a partir de una lista:\", list_to_set)"
   ]
  },
  {
   "cell_type": "markdown",
   "id": "56ecde60-78f8-410b-a8e7-bc97933d4d7b",
   "metadata": {},
   "source": [
    "### Operaciones con Sets "
   ]
  },
  {
   "cell_type": "code",
   "execution_count": 2,
   "id": "793cf343-0f3e-4842-9fe6-8cd20282459a",
   "metadata": {
    "tags": []
   },
   "outputs": [
    {
     "name": "stdout",
     "output_type": "stream",
     "text": [
      "Set después de añadir un elemento: {1, 2, 3, 4, 5, 6}\n",
      "Set después de remover un elemento: {1, 2, 4, 5, 6}\n",
      "Unión de sets: {1, 2, 4, 5, 6, 7, 8}\n",
      "Intersección de sets: {4, 5, 6}\n"
     ]
    }
   ],
   "source": [
    "# Añadir elementos a un set\n",
    "simple_set.add(6)\n",
    "print(\"Set después de añadir un elemento:\", simple_set)\n",
    "\n",
    "# Remover elementos de un set\n",
    "simple_set.discard(3)\n",
    "print(\"Set después de remover un elemento:\", simple_set)\n",
    "\n",
    "# Operaciones de conjuntos como unión, intersección\n",
    "another_set = {4, 5, 6, 7, 8}\n",
    "print(\"Unión de sets:\", simple_set.union(another_set))\n",
    "print(\"Intersección de sets:\", simple_set.intersection(another_set))\n"
   ]
  },
  {
   "cell_type": "markdown",
   "id": "0c8ebd60-66f4-427f-8918-86755dc6a1cd",
   "metadata": {},
   "source": [
    "### Iterar sobre Sets"
   ]
  },
  {
   "cell_type": "code",
   "execution_count": 3,
   "id": "9e558d7f-66a0-4d50-8ce5-a378803012c2",
   "metadata": {
    "tags": []
   },
   "outputs": [
    {
     "name": "stdout",
     "output_type": "stream",
     "text": [
      "1\n",
      "2\n",
      "4\n",
      "5\n",
      "6\n"
     ]
    }
   ],
   "source": [
    "\n",
    "# Iteración con un bucle for\n",
    "for item in simple_set:\n",
    "    print(item)\n"
   ]
  },
  {
   "cell_type": "code",
   "execution_count": null,
   "id": "0dd62836-e603-4619-9f60-c6b3533d6e01",
   "metadata": {},
   "outputs": [],
   "source": []
  }
 ],
 "metadata": {
  "kernelspec": {
   "display_name": "Python 3 (ipykernel)",
   "language": "python",
   "name": "python3"
  },
  "language_info": {
   "codemirror_mode": {
    "name": "ipython",
    "version": 3
   },
   "file_extension": ".py",
   "mimetype": "text/x-python",
   "name": "python",
   "nbconvert_exporter": "python",
   "pygments_lexer": "ipython3",
   "version": "3.11.4"
  }
 },
 "nbformat": 4,
 "nbformat_minor": 5
}
