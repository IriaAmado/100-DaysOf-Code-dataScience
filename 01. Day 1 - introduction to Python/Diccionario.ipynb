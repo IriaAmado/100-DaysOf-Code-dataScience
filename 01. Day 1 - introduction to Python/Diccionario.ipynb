{
 "cells": [
  {
   "cell_type": "markdown",
   "id": "5b8c4d32-316d-4467-a77a-886ab9df789f",
   "metadata": {},
   "source": [
    "### Diccionarios en Python"
   ]
  },
  {
   "cell_type": "markdown",
   "id": "9525cd16-03e3-4f49-b709-de9ce9a314e5",
   "metadata": {},
   "source": [
    "\n",
    "Este cuaderno está dedicado a explorar el uso de diccionarios en Python, incluyendo su creación, manipulación, y técnicas especiales.\n"
   ]
  },
  {
   "cell_type": "markdown",
   "id": "c5d7d389-6c6f-4dc5-ac14-593b1a7f41ce",
   "metadata": {},
   "source": [
    "### Creación de Diccionarios "
   ]
  },
  {
   "cell_type": "code",
   "execution_count": 1,
   "id": "278c5ea9-6680-47d5-ac7f-9cd1988e9936",
   "metadata": {
    "tags": []
   },
   "outputs": [
    {
     "name": "stdout",
     "output_type": "stream",
     "text": [
      "Diccionario simple: {'nombre': 'Juan', 'edad': 30, 'ciudad': 'Madrid'}\n",
      "Diccionario construido con dict(): {'nombre': 'Ana', 'edad': 25, 'ciudad': 'Barcelona'}\n"
     ]
    }
   ],
   "source": [
    "# Creación de un diccionario simple\n",
    "simple_dict = {'nombre': 'Juan', 'edad': 30, 'ciudad': 'Madrid'}\n",
    "print(\"Diccionario simple:\", simple_dict)\n",
    "\n",
    "# Diccionario usando el constructor dict()\n",
    "constructed_dict = dict(nombre=\"Ana\", edad=25, ciudad=\"Barcelona\")\n",
    "print(\"Diccionario construido con dict():\", constructed_dict)\n"
   ]
  },
  {
   "cell_type": "markdown",
   "id": "2b315e6f-2ef3-4122-95e0-330ec42a5b36",
   "metadata": {},
   "source": [
    "### Acceso a Elementos del Diccionario"
   ]
  },
  {
   "cell_type": "code",
   "execution_count": 2,
   "id": "f152b708-cfe8-4144-92e0-2e0e0e58c093",
   "metadata": {
    "tags": []
   },
   "outputs": [
    {
     "name": "stdout",
     "output_type": "stream",
     "text": [
      "Nombre: Juan\n",
      "Edad: 30\n"
     ]
    }
   ],
   "source": [
    "# Acceder a un elemento por su clave\n",
    "print(\"Nombre:\", simple_dict['nombre'])\n",
    "\n",
    "# Uso de get() para acceso seguro a elementos\n",
    "print(\"Edad:\", simple_dict.get('edad'))"
   ]
  },
  {
   "cell_type": "markdown",
   "id": "4f67fbbd-2aad-4fdf-89f6-b847b7bec41c",
   "metadata": {},
   "source": [
    "### Modificar Diccionarios "
   ]
  },
  {
   "cell_type": "code",
   "execution_count": 3,
   "id": "f381263f-5111-4998-9440-5dbad4e5ed27",
   "metadata": {
    "tags": []
   },
   "outputs": [
    {
     "name": "stdout",
     "output_type": "stream",
     "text": [
      "Diccionario modificado: {'nombre': 'Juan', 'edad': 31, 'ciudad': 'Madrid'}\n",
      "Diccionario después de añadir un nuevo par clave-valor: {'nombre': 'Juan', 'edad': 31, 'ciudad': 'Madrid', 'profesión': 'Ingeniero'}\n"
     ]
    }
   ],
   "source": [
    "# Cambiar un valor\n",
    "simple_dict['edad'] = 31\n",
    "print(\"Diccionario modificado:\", simple_dict)\n",
    "\n",
    "# Añadir un nuevo par clave-valor\n",
    "simple_dict['profesión'] = 'Ingeniero'\n",
    "print(\"Diccionario después de añadir un nuevo par clave-valor:\", simple_dict)\n"
   ]
  },
  {
   "cell_type": "markdown",
   "id": "869d4b69-fa2f-422f-99a9-ddee913d1206",
   "metadata": {},
   "source": [
    "### Iterar sobre Diccionarios "
   ]
  },
  {
   "cell_type": "code",
   "execution_count": 4,
   "id": "1713fc67-367a-4c0a-8114-9d4e39082691",
   "metadata": {
    "tags": []
   },
   "outputs": [
    {
     "name": "stdout",
     "output_type": "stream",
     "text": [
      "nombre\n",
      "edad\n",
      "ciudad\n",
      "profesión\n",
      "Juan\n",
      "31\n",
      "Madrid\n",
      "Ingeniero\n",
      "nombre Juan\n",
      "edad 31\n",
      "ciudad Madrid\n",
      "profesión Ingeniero\n"
     ]
    }
   ],
   "source": [
    "# Iterar sobre las claves\n",
    "for key in simple_dict:\n",
    "    print(key)\n",
    "\n",
    "# Iterar sobre los valores\n",
    "for value in simple_dict.values():\n",
    "    print(value)\n",
    "\n",
    "# Iterar sobre pares clave-valor\n",
    "for key, value in simple_dict.items():\n",
    "    print(key, value)"
   ]
  },
  {
   "cell_type": "code",
   "execution_count": null,
   "id": "e44aee62-f58b-421f-90da-68b6694d8303",
   "metadata": {},
   "outputs": [],
   "source": []
  }
 ],
 "metadata": {
  "kernelspec": {
   "display_name": "Python 3 (ipykernel)",
   "language": "python",
   "name": "python3"
  },
  "language_info": {
   "codemirror_mode": {
    "name": "ipython",
    "version": 3
   },
   "file_extension": ".py",
   "mimetype": "text/x-python",
   "name": "python",
   "nbconvert_exporter": "python",
   "pygments_lexer": "ipython3",
   "version": "3.11.4"
  }
 },
 "nbformat": 4,
 "nbformat_minor": 5
}
