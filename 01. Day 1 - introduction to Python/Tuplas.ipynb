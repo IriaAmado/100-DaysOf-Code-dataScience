{
 "cells": [
  {
   "cell_type": "markdown",
   "id": "f4ad4f11-368d-4760-b079-80e3a0b0c85d",
   "metadata": {},
   "source": [
    "## Tuplas en Python "
   ]
  },
  {
   "cell_type": "markdown",
   "id": "57d50fa6-7d0c-4f5a-af2c-be1ef26a2fd7",
   "metadata": {},
   "source": [
    "\n",
    "\n",
    "En este cuaderno, abordamos el uso de las tuplas en Python, incluyendo su creación, características, y operaciones comunes.\n"
   ]
  },
  {
   "cell_type": "markdown",
   "id": "b8462449-3499-4894-8a1d-1a9105e87569",
   "metadata": {},
   "source": [
    "## Creación de Tuplas "
   ]
  },
  {
   "cell_type": "code",
   "execution_count": 1,
   "id": "87fb4303-77ec-48bc-adcd-2daca53a7799",
   "metadata": {
    "tags": []
   },
   "outputs": [
    {
     "name": "stdout",
     "output_type": "stream",
     "text": [
      "Tupla simple: (1, 2, 3, 4, 5)\n",
      "Tupla de un solo elemento: (1,)\n"
     ]
    }
   ],
   "source": [
    "# Creación de una tupla simple\n",
    "simple_tuple = (1, 2, 3, 4, 5)\n",
    "print(\"Tupla simple:\", simple_tuple)\n",
    "\n",
    "# Tupla de un solo elemento (necesita una coma al final)\n",
    "single_element_tuple = (1,)\n",
    "print(\"Tupla de un solo elemento:\", single_element_tuple)\n"
   ]
  },
  {
   "cell_type": "markdown",
   "id": "f311fc1d-6c80-4478-8a4c-bee5b9270923",
   "metadata": {},
   "source": [
    "## Operaciones con Tuplas "
   ]
  },
  {
   "cell_type": "code",
   "execution_count": 2,
   "id": "1f5d7292-8107-40e0-9ad2-64ce8df9b2e6",
   "metadata": {
    "tags": []
   },
   "outputs": [
    {
     "name": "stdout",
     "output_type": "stream",
     "text": [
      "Primer elemento de la tupla: 1\n",
      "Elementos desde el índice 1 al 3: (2, 3, 4)\n",
      "Error: 'tuple' object does not support item assignment\n"
     ]
    }
   ],
   "source": [
    "# Acceder a elementos de una tupla por índice\n",
    "print(\"Primer elemento de la tupla:\", simple_tuple[0])\n",
    "\n",
    "# Slicing de tupla\n",
    "print(\"Elementos desde el índice 1 al 3:\", simple_tuple[1:4])\n",
    "\n",
    "# Intentar modificar una tupla (esto dará error)\n",
    "try:\n",
    "    simple_tuple[0] = 10\n",
    "except TypeError as e:\n",
    "    print(\"Error:\", e)"
   ]
  },
  {
   "cell_type": "markdown",
   "id": "e320bfdf-be84-4898-bbb7-a4237fe46628",
   "metadata": {},
   "source": [
    "## Iterar sobre Tuplas "
   ]
  },
  {
   "cell_type": "code",
   "execution_count": 3,
   "id": "1133bc79-cb67-4d02-ac48-ce983afa849b",
   "metadata": {
    "tags": []
   },
   "outputs": [
    {
     "name": "stdout",
     "output_type": "stream",
     "text": [
      "1\n",
      "2\n",
      "3\n",
      "4\n",
      "5\n"
     ]
    }
   ],
   "source": [
    "# Iteración con un bucle for\n",
    "for item in simple_tuple:\n",
    "    print(item)"
   ]
  },
  {
   "cell_type": "code",
   "execution_count": null,
   "id": "018030a5-52c1-4ee6-a727-456a1d36caaa",
   "metadata": {},
   "outputs": [],
   "source": []
  }
 ],
 "metadata": {
  "kernelspec": {
   "display_name": "Python 3 (ipykernel)",
   "language": "python",
   "name": "python3"
  },
  "language_info": {
   "codemirror_mode": {
    "name": "ipython",
    "version": 3
   },
   "file_extension": ".py",
   "mimetype": "text/x-python",
   "name": "python",
   "nbconvert_exporter": "python",
   "pygments_lexer": "ipython3",
   "version": "3.11.4"
  }
 },
 "nbformat": 4,
 "nbformat_minor": 5
}
