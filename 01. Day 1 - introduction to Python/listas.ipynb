{
 "cells": [
  {
   "cell_type": "markdown",
   "id": "609789e8-ebeb-4c48-bed2-1a05f72e77e3",
   "metadata": {},
   "source": [
    "### 01. Día 1: introducción a Python"
   ]
  },
  {
   "cell_type": "markdown",
   "id": "bd915538-a2f9-462d-99a8-8e368383cb30",
   "metadata": {},
   "source": [
    " Listas en Python\n",
    "\n",
    "En este cuaderno, exploraremos varios ejemplos avanzados y útiles relacionados con las listas en Python, abarcando su creación, manipulación, y técnicas especiales.\n"
   ]
  },
  {
   "cell_type": "markdown",
   "id": "46f396cf-7016-4eb5-95d4-05e022b57ebd",
   "metadata": {},
   "source": [
    "### Creación de Listas"
   ]
  },
  {
   "cell_type": "code",
   "execution_count": 1,
   "id": "91c56682-f82b-47eb-a7fb-5f22f432dfd5",
   "metadata": {
    "tags": []
   },
   "outputs": [
    {
     "name": "stdout",
     "output_type": "stream",
     "text": [
      "Lista simple: [1, 2, 3, 4, 5]\n",
      "Lista mixta: [1, 'apple', 3.14, True]\n"
     ]
    }
   ],
   "source": [
    "# Creación de una lista simple\n",
    "simple_list = [1, 2, 3, 4, 5]\n",
    "print(\"Lista simple:\", simple_list)\n",
    "\n",
    "# Lista mixta (diferentes tipos de datos)\n",
    "mixed_list = [1, \"apple\", 3.14, True]\n",
    "print(\"Lista mixta:\", mixed_list)"
   ]
  },
  {
   "cell_type": "markdown",
   "id": "dfaf00fa-ddff-42dd-acdc-d39fe4e114ec",
   "metadata": {},
   "source": [
    "### Acceso a Elementos de la Lista"
   ]
  },
  {
   "cell_type": "code",
   "execution_count": 2,
   "id": "4c1cb770-2965-4a67-9f0f-3b7a10ce941b",
   "metadata": {
    "tags": []
   },
   "outputs": [
    {
     "name": "stdout",
     "output_type": "stream",
     "text": [
      "Elemento en índice 0: 1\n",
      "Primeros tres elementos: [1, 2, 3]\n"
     ]
    }
   ],
   "source": [
    "# Acceso por índice\n",
    "print(\"Elemento en índice 0:\", simple_list[0])\n",
    "\n",
    "# Slicing de lista\n",
    "print(\"Primeros tres elementos:\", simple_list[:3])"
   ]
  },
  {
   "cell_type": "markdown",
   "id": "af9776d4-f200-4769-9c38-9aa93efb0abe",
   "metadata": {},
   "source": [
    "### Modificar Listas\n"
   ]
  },
  {
   "cell_type": "code",
   "execution_count": 3,
   "id": "ecd59b9d-59ea-4317-8d6a-a7e6d1ed4e10",
   "metadata": {
    "tags": []
   },
   "outputs": [
    {
     "name": "stdout",
     "output_type": "stream",
     "text": [
      "Lista modificada: [10, 2, 3, 4, 5]\n",
      "Lista después de añadir un elemento: [10, 2, 3, 4, 5, 6]\n"
     ]
    }
   ],
   "source": [
    "\n",
    "# Cambiar un elemento\n",
    "simple_list[0] = 10\n",
    "print(\"Lista modificada:\", simple_list)\n",
    "\n",
    "# Añadir un elemento\n",
    "simple_list.append(6)\n",
    "print(\"Lista después de añadir un elemento:\", simple_list)"
   ]
  },
  {
   "cell_type": "markdown",
   "id": "0273c46a-ccd2-4c64-86a2-0f38301948aa",
   "metadata": {},
   "source": [
    "### Iterar sobre Listas"
   ]
  },
  {
   "cell_type": "code",
   "execution_count": 4,
   "id": "63cfdf61-4b96-4045-b084-4a9633bff985",
   "metadata": {
    "tags": []
   },
   "outputs": [
    {
     "name": "stdout",
     "output_type": "stream",
     "text": [
      "10\n",
      "2\n",
      "3\n",
      "4\n",
      "5\n",
      "6\n"
     ]
    }
   ],
   "source": [
    "# Iteración con un bucle for\n",
    "for item in simple_list:\n",
    "    print(item)\n"
   ]
  },
  {
   "cell_type": "markdown",
   "id": "6b1b3cdf-860c-4888-bf2f-b2c7867e20b5",
   "metadata": {
    "tags": []
   },
   "source": [
    "## Comprensión de Listas "
   ]
  },
  {
   "cell_type": "code",
   "execution_count": null,
   "id": "fb2e58d4-41b5-4ec1-b8c4-eb7a30be1848",
   "metadata": {},
   "outputs": [],
   "source": [
    "# Comprensión de lista para crear una lista de cuadrados\n",
    "squares = [x**2 for x in range(10)]\n",
    "print(\"Cuadrados:\", squares)"
   ]
  },
  {
   "cell_type": "code",
   "execution_count": null,
   "id": "52dcfc31-b579-499c-9f6f-c11a78539cd3",
   "metadata": {},
   "outputs": [],
   "source": []
  }
 ],
 "metadata": {
  "kernelspec": {
   "display_name": "Python 3 (ipykernel)",
   "language": "python",
   "name": "python3"
  },
  "language_info": {
   "codemirror_mode": {
    "name": "ipython",
    "version": 3
   },
   "file_extension": ".py",
   "mimetype": "text/x-python",
   "name": "python",
   "nbconvert_exporter": "python",
   "pygments_lexer": "ipython3",
   "version": "3.11.4"
  }
 },
 "nbformat": 4,
 "nbformat_minor": 5
}
