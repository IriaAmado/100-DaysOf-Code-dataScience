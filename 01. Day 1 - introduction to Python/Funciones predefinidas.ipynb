{
 "cells": [
  {
   "cell_type": "markdown",
   "id": "9237b7a1-6133-486e-bf92-871b5acc5b86",
   "metadata": {},
   "source": [
    " # Funciones predefinidas más comunes en Python:"
   ]
  },
  {
   "cell_type": "markdown",
   "id": "7db9a73c-4eca-495c-b5e4-3154138f658b",
   "metadata": {},
   "source": [
    "\n",
    "print(): Imprime el objeto dado a la salida estándar (la pantalla por defecto).\n",
    "\n",
    "len(): Devuelve la longitud (el número de elementos) de un objeto. Funciona con muchos tipos de datos, como strings, listas, tuplas, etc.\n",
    "\n",
    "type(): Devuelve el tipo del objeto pasado como argumento.\n",
    "\n",
    "int(), float(), str(), bool(): Convierten un objeto a tipo entero, flotante, cadena y booleano, respectivamente.\n",
    "\n",
    "range(): Genera una secuencia de números, útil para iterar en bucles.\n",
    "\n",
    "input(): Permite al usuario introducir datos desde el teclado.\n",
    "\n",
    "max(): Devuelve el mayor elemento de un iterable o el mayor de dos o más argumentos.\n",
    "\n",
    "min(): Devuelve el menor elemento de un iterable o el menor de dos o más argumentos.\n",
    "\n",
    "sum(): Suma los elementos de un iterable.\n",
    "\n",
    "sorted(): Devuelve una nueva lista con los elementos de un iterable ordenados.\n",
    "\n",
    "open(): Abre un archivo y devuelve un objeto de archivo correspondiente.\n",
    "\n",
    "abs(): Devuelve el valor absoluto de un número.\n",
    "\n",
    "help(): Proporciona ayuda interactiva o ayuda sobre un objeto en particular.\n",
    "\n",
    "round(): Redondea un número a un número específico de decimales.\n",
    "\n",
    "zip(): Combina varios iterables en una secuencia de tuplas."
   ]
  },
  {
   "cell_type": "markdown",
   "id": "44a774df-72eb-4541-98bc-0f5c80f815a0",
   "metadata": {},
   "source": [
    "enumerate(): Añade un contador a un iterable y lo devuelve en forma de objeto enumerado. Muy útil para obtener el índice de los elementos mientras se itera sobre una colección.\n",
    "\n",
    "map(): Aplica una función dada a cada elemento de un iterable y devuelve un iterador con los resultados.\n",
    "\n",
    "filter(): Construye un iterador a partir de elementos de un iterable para los cuales una función devuelve verdadero.\n",
    "\n",
    "reduce(): Aplica de forma acumulativa una función a los elementos de un iterable, de izquierda a derecha, para reducir el iterable a un solo valor. Se encuentra en el módulo functools.\n",
    "\n",
    "getattr(), setattr(), delattr(), hasattr(): Permiten manipular los atributos de un objeto de manera programática.\n",
    "\n",
    "globals() y locals(): Devuelven un diccionario que representa la tabla de símbolos global y local respectivamente.\n",
    "\n",
    "isinstance(): Comprueba si un objeto es una instancia de una clase o de una tupla de clases.\n",
    "\n",
    "issubclass(): Comprueba si una clase es subclase de otra clase.\n",
    "\n",
    "**`exec\n",
    "\n",
    "()**: Ejecuta dinámicamente código de Python.\n",
    "\n",
    "eval(): Evalúa una expresión Python dada como un string y devuelve el resultado.\n",
    "\n",
    "compile(): Compila código fuente de Python a código de bytes, que luego puede ser ejecutado.\n",
    "\n",
    "dir(): Intenta devolver una lista de nombres de atributos válidos para el objeto que se le pasa.\n",
    "\n",
    "id(): Devuelve la “identidad” de un objeto, que es un entero único y constante durante la vida de este objeto.\n",
    "\n",
    "hash(): Obtiene el valor hash de un objeto (si tiene uno).\n",
    "\n",
    "reversed(): Devuelve un iterador que accede a los elementos de una secuencia en el orden inverso.\n",
    "\n",
    "slice(): Crea un objeto de tipo slice, que se utiliza para obtener una parte de una secuencia.\n",
    "\n",
    "all() y any(): all() devuelve True si todos los elementos de un iterable son verdaderos (o si el iterable está vacío), mientras que any() devuelve True si algún elemento del iterable es verdadero.\n",
    "\n",
    "chr() y ord(): chr() devuelve el carácter correspondiente a un valor ASCII, y ord() hace lo contrario, devuelve el valor ASCII para un carácter dado.\n",
    "\n",
    "divmod(): Toma dos números como argumentos y devuelve un par de números que consiste en su cociente y residuo.\n",
    "\n",
    "pow(): Utilizada para calcular la potencia de un número. Es similar a usar el operador de potencia **."
   ]
  },
  {
   "cell_type": "code",
   "execution_count": null,
   "id": "c59c19f0-c06e-4a4d-9902-aeb7f6981953",
   "metadata": {},
   "outputs": [],
   "source": []
  }
 ],
 "metadata": {
  "kernelspec": {
   "display_name": "Python 3 (ipykernel)",
   "language": "python",
   "name": "python3"
  },
  "language_info": {
   "codemirror_mode": {
    "name": "ipython",
    "version": 3
   },
   "file_extension": ".py",
   "mimetype": "text/x-python",
   "name": "python",
   "nbconvert_exporter": "python",
   "pygments_lexer": "ipython3",
   "version": "3.11.4"
  }
 },
 "nbformat": 4,
 "nbformat_minor": 5
}
